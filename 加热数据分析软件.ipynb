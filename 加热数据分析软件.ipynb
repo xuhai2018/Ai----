{
 "cells": [
  {
   "cell_type": "code",
   "execution_count": 245,
   "metadata": {},
   "outputs": [
    {
     "name": "stdout",
     "output_type": "stream",
     "text": [
      "['heating-data-2017-11-25.csv', '图片保存']\n"
     ]
    }
   ],
   "source": [
    "#-*- coding:utf-8 –*-\n",
    "import numpy as np \n",
    "import pandas as pd \n",
    "import matplotlib.pyplot as plt\n",
    "import seaborn as sns\n",
    "import lightgbm as lgb\n",
    "from sklearn.model_selection import KFold\n",
    "from sklearn import model_selection, preprocessing, metrics\n",
    "import warnings\n",
    "import datetime\n",
    "warnings.filterwarnings(\"ignore\")\n",
    "import os\n",
    "print(os.listdir(\"E:\\\\kaggle\\\\jia\"))"
   ]
  },
  {
   "cell_type": "code",
   "execution_count": 246,
   "metadata": {},
   "outputs": [
    {
     "name": "stdout",
     "output_type": "stream",
     "text": [
      "9099 observations and 15 features in train set.\n"
     ]
    }
   ],
   "source": [
    "df_train = pd.read_csv(r\"E:\\\\kaggle\\\\jia\\\\heating-data-2017-11-25.csv\")\n",
    "print(\"{} observations and {} features in train set.\".format(df_train.shape[0],df_train.shape[1]))"
   ]
  },
  {
   "cell_type": "code",
   "execution_count": 247,
   "metadata": {},
   "outputs": [
    {
     "data": {
      "text/html": [
       "<div>\n",
       "<style scoped>\n",
       "    .dataframe tbody tr th:only-of-type {\n",
       "        vertical-align: middle;\n",
       "    }\n",
       "\n",
       "    .dataframe tbody tr th {\n",
       "        vertical-align: top;\n",
       "    }\n",
       "\n",
       "    .dataframe thead th {\n",
       "        text-align: right;\n",
       "    }\n",
       "</style>\n",
       "<table border=\"1\" class=\"dataframe\">\n",
       "  <thead>\n",
       "    <tr style=\"text-align: right;\">\n",
       "      <th></th>\n",
       "      <th>时间</th>\n",
       "      <th>左阴极电压</th>\n",
       "      <th>左阴极位置</th>\n",
       "      <th>右阴极电压</th>\n",
       "      <th>右阴极位置</th>\n",
       "      <th>中间阳极电压</th>\n",
       "      <th>中间阳极位置</th>\n",
       "      <th>左阴极电流</th>\n",
       "      <th>右阴极电流</th>\n",
       "      <th>中间阳极电流</th>\n",
       "      <th>左阴极气</th>\n",
       "      <th>右阴极气</th>\n",
       "      <th>水压力</th>\n",
       "      <th>水流量</th>\n",
       "      <th>水温度</th>\n",
       "    </tr>\n",
       "  </thead>\n",
       "  <tbody>\n",
       "    <tr>\n",
       "      <th>0</th>\n",
       "      <td>11/25/2017 12:03:27 AM</td>\n",
       "      <td>72.2</td>\n",
       "      <td>0.0</td>\n",
       "      <td>73.9</td>\n",
       "      <td>0.0</td>\n",
       "      <td>155.5</td>\n",
       "      <td>0.0</td>\n",
       "      <td>11.1</td>\n",
       "      <td>9.1</td>\n",
       "      <td>18.2</td>\n",
       "      <td>4.46</td>\n",
       "      <td>3.74</td>\n",
       "      <td>0.81</td>\n",
       "      <td>4.40</td>\n",
       "      <td>15.48</td>\n",
       "    </tr>\n",
       "    <tr>\n",
       "      <th>1</th>\n",
       "      <td>11/25/2017 12:03:28 AM</td>\n",
       "      <td>71.6</td>\n",
       "      <td>0.0</td>\n",
       "      <td>73.6</td>\n",
       "      <td>0.0</td>\n",
       "      <td>155.7</td>\n",
       "      <td>0.0</td>\n",
       "      <td>10.1</td>\n",
       "      <td>9.1</td>\n",
       "      <td>18.2</td>\n",
       "      <td>4.46</td>\n",
       "      <td>3.75</td>\n",
       "      <td>0.82</td>\n",
       "      <td>4.40</td>\n",
       "      <td>15.19</td>\n",
       "    </tr>\n",
       "    <tr>\n",
       "      <th>2</th>\n",
       "      <td>11/25/2017 12:03:29 AM</td>\n",
       "      <td>71.5</td>\n",
       "      <td>0.0</td>\n",
       "      <td>73.4</td>\n",
       "      <td>0.0</td>\n",
       "      <td>154.5</td>\n",
       "      <td>0.0</td>\n",
       "      <td>10.1</td>\n",
       "      <td>9.1</td>\n",
       "      <td>18.2</td>\n",
       "      <td>4.46</td>\n",
       "      <td>3.75</td>\n",
       "      <td>0.84</td>\n",
       "      <td>4.40</td>\n",
       "      <td>15.19</td>\n",
       "    </tr>\n",
       "    <tr>\n",
       "      <th>3</th>\n",
       "      <td>11/25/2017 12:03:30 AM</td>\n",
       "      <td>71.2</td>\n",
       "      <td>0.0</td>\n",
       "      <td>73.6</td>\n",
       "      <td>0.0</td>\n",
       "      <td>154.5</td>\n",
       "      <td>0.0</td>\n",
       "      <td>10.1</td>\n",
       "      <td>9.1</td>\n",
       "      <td>18.2</td>\n",
       "      <td>4.45</td>\n",
       "      <td>3.74</td>\n",
       "      <td>0.83</td>\n",
       "      <td>4.40</td>\n",
       "      <td>15.48</td>\n",
       "    </tr>\n",
       "    <tr>\n",
       "      <th>4</th>\n",
       "      <td>11/25/2017 12:03:31 AM</td>\n",
       "      <td>71.0</td>\n",
       "      <td>0.0</td>\n",
       "      <td>73.4</td>\n",
       "      <td>0.0</td>\n",
       "      <td>154.8</td>\n",
       "      <td>0.0</td>\n",
       "      <td>10.1</td>\n",
       "      <td>9.1</td>\n",
       "      <td>18.2</td>\n",
       "      <td>4.45</td>\n",
       "      <td>3.74</td>\n",
       "      <td>0.81</td>\n",
       "      <td>1.09</td>\n",
       "      <td>15.63</td>\n",
       "    </tr>\n",
       "  </tbody>\n",
       "</table>\n",
       "</div>"
      ],
      "text/plain": [
       "                       时间  左阴极电压  左阴极位置  右阴极电压  右阴极位置  中间阳极电压  中间阳极位置  左阴极电流  \\\n",
       "0  11/25/2017 12:03:27 AM   72.2    0.0   73.9    0.0   155.5     0.0   11.1   \n",
       "1  11/25/2017 12:03:28 AM   71.6    0.0   73.6    0.0   155.7     0.0   10.1   \n",
       "2  11/25/2017 12:03:29 AM   71.5    0.0   73.4    0.0   154.5     0.0   10.1   \n",
       "3  11/25/2017 12:03:30 AM   71.2    0.0   73.6    0.0   154.5     0.0   10.1   \n",
       "4  11/25/2017 12:03:31 AM   71.0    0.0   73.4    0.0   154.8     0.0   10.1   \n",
       "\n",
       "   右阴极电流  中间阳极电流  左阴极气  右阴极气   水压力   水流量    水温度  \n",
       "0    9.1    18.2  4.46  3.74  0.81  4.40  15.48  \n",
       "1    9.1    18.2  4.46  3.75  0.82  4.40  15.19  \n",
       "2    9.1    18.2  4.46  3.75  0.84  4.40  15.19  \n",
       "3    9.1    18.2  4.45  3.74  0.83  4.40  15.48  \n",
       "4    9.1    18.2  4.45  3.74  0.81  1.09  15.63  "
      ]
     },
     "execution_count": 247,
     "metadata": {},
     "output_type": "execute_result"
    }
   ],
   "source": [
    "df_train.head()"
   ]
  },
  {
   "cell_type": "code",
   "execution_count": 248,
   "metadata": {},
   "outputs": [],
   "source": [
    "#数据可视化分析及中文显示\n",
    "plt.rcParams['font.sans-serif'] = ['SimHei'] # 步骤一（替换sans-serif字体）\n",
    "plt.rcParams['axes.unicode_minus'] = False  \n",
    "train_x=df_train.drop(['时间'],axis=1)\n",
    "train_Y=df_train['左阴极电压']"
   ]
  },
  {
   "cell_type": "code",
   "execution_count": 249,
   "metadata": {},
   "outputs": [
    {
     "data": {
      "image/png": "[encoded data removed]",
      "text/plain": [
       "<Figure size 432x288 with 1 Axes>"
      ]
     },
     "metadata": {
      "needs_background": "light"
     },
     "output_type": "display_data"
    },
    {
     "data": {
      "image/png": "[encoded data removed]",
      "text/plain": [
       "<Figure size 432x288 with 1 Axes>"
      ]
     },
     "metadata": {
      "needs_background": "light"
     },
     "output_type": "display_data"
    },
    {
     "data": {
      "image/png": "[encoded data removed]",
      "text/plain": [
       "<Figure size 432x288 with 1 Axes>"
      ]
     },
     "metadata": {
      "needs_background": "light"
     },
     "output_type": "display_data"
    },
    {
     "data": {
      "image/png": "[encoded data removed]",
      "text/plain": [
       "<Figure size 432x288 with 1 Axes>"
      ]
     },
     "metadata": {
      "needs_background": "light"
     },
     "output_type": "display_data"
    },
    {
     "data": {
      "image/png": "[encoded data removed]",
      "text/plain": [
       "<Figure size 432x288 with 1 Axes>"
      ]
     },
     "metadata": {
      "needs_background": "light"
     },
     "output_type": "display_data"
    },
    {
     "data": {
      "image/png": "[encoded data removed]",
      "text/plain": [
       "<Figure size 432x288 with 1 Axes>"
      ]
     },
     "metadata": {
      "needs_background": "light"
     },
     "output_type": "display_data"
    },
    {
     "data": {
      "image/png": "[encoded data removed]",
      "text/plain": [
       "<Figure size 432x288 with 1 Axes>"
      ]
     },
     "metadata": {
      "needs_background": "light"
     },
     "output_type": "display_data"
    },
    {
     "data": {
      "image/png": "[encoded data removed]",
      "text/plain": [
       "<Figure size 432x288 with 1 Axes>"
      ]
     },
     "metadata": {
      "needs_background": "light"
     },
     "output_type": "display_data"
    },
    {
     "data": {
      "image/png": "[encoded data removed]",
      "text/plain": [
       "<Figure size 432x288 with 1 Axes>"
      ]
     },
     "metadata": {
      "needs_background": "light"
     },
     "output_type": "display_data"
    },
    {
     "data": {
      "image/png": "[encoded data removed]",
      "text/plain": [
       "<Figure size 432x288 with 1 Axes>"
      ]
     },
     "metadata": {
      "needs_background": "light"
     },
     "output_type": "display_data"
    },
    {
     "data": {
      "image/png": "[encoded data removed]",
      "text/plain": [
       "<Figure size 432x288 with 1 Axes>"
      ]
     },
     "metadata": {
      "needs_background": "light"
     },
     "output_type": "display_data"
    },
    {
     "data": {
      "image/png": "[encoded data removed]",
      "text/plain": [
       "<Figure size 432x288 with 1 Axes>"
      ]
     },
     "metadata": {
      "needs_background": "light"
     },
     "output_type": "display_data"
    },
    {
     "data": {
      "image/png": "[encoded data removed]",
      "text/plain": [
       "<Figure size 432x288 with 1 Axes>"
      ]
     },
     "metadata": {
      "needs_background": "light"
     },
     "output_type": "display_data"
    },
    {
     "data": {
      "image/png": "[encoded data removed]",
      "text/plain": [
       "<Figure size 432x288 with 1 Axes>"
      ]
     },
     "metadata": {
      "needs_background": "light"
     },
     "output_type": "display_data"
    }
   ],
   "source": [
    "for col in train_x.columns:\n",
    "    sns.distplot(train_x[col])\n",
    "    plt.show()"
   ]
  },
  {
   "cell_type": "code",
   "execution_count": 250,
   "metadata": {},
   "outputs": [
    {
     "name": "stdout",
     "output_type": "stream",
     "text": [
      "<class 'pandas.core.frame.DataFrame'>\n",
      "RangeIndex: 9099 entries, 0 to 9098\n",
      "Data columns (total 15 columns):\n",
      "时间        9099 non-null object\n",
      "左阴极电压     9099 non-null float64\n",
      "左阴极位置     9099 non-null float64\n",
      "右阴极电压     9099 non-null float64\n",
      "右阴极位置     9099 non-null float64\n",
      "中间阳极电压    9099 non-null float64\n",
      "中间阳极位置    9099 non-null float64\n",
      "左阴极电流     9099 non-null float64\n",
      "右阴极电流     9099 non-null float64\n",
      "中间阳极电流    9099 non-null float64\n",
      "左阴极气      9099 non-null float64\n",
      "右阴极气      9099 non-null float64\n",
      "水压力       9099 non-null float64\n",
      "水流量       9099 non-null float64\n",
      "水温度       9099 non-null float64\n",
      "dtypes: float64(14), object(1)\n",
      "memory usage: 1.0+ MB\n"
     ]
    }
   ],
   "source": [
    "#数据分析\n",
    "df_train.info()"
   ]
  },
  {
   "cell_type": "code",
   "execution_count": 251,
   "metadata": {},
   "outputs": [
    {
     "data": {
      "text/html": [
       "<div>\n",
       "<style scoped>\n",
       "    .dataframe tbody tr th:only-of-type {\n",
       "        vertical-align: middle;\n",
       "    }\n",
       "\n",
       "    .dataframe tbody tr th {\n",
       "        vertical-align: top;\n",
       "    }\n",
       "\n",
       "    .dataframe thead th {\n",
       "        text-align: right;\n",
       "    }\n",
       "</style>\n",
       "<table border=\"1\" class=\"dataframe\">\n",
       "  <thead>\n",
       "    <tr style=\"text-align: right;\">\n",
       "      <th></th>\n",
       "      <th>左阴极电压</th>\n",
       "      <th>左阴极位置</th>\n",
       "      <th>右阴极电压</th>\n",
       "      <th>右阴极位置</th>\n",
       "      <th>中间阳极电压</th>\n",
       "      <th>中间阳极位置</th>\n",
       "      <th>左阴极电流</th>\n",
       "      <th>右阴极电流</th>\n",
       "      <th>中间阳极电流</th>\n",
       "      <th>左阴极气</th>\n",
       "      <th>右阴极气</th>\n",
       "      <th>水压力</th>\n",
       "      <th>水流量</th>\n",
       "      <th>水温度</th>\n",
       "    </tr>\n",
       "  </thead>\n",
       "  <tbody>\n",
       "    <tr>\n",
       "      <th>count</th>\n",
       "      <td>9099.000000</td>\n",
       "      <td>9099.000000</td>\n",
       "      <td>9099.000000</td>\n",
       "      <td>9099.000000</td>\n",
       "      <td>9099.000000</td>\n",
       "      <td>9099.000000</td>\n",
       "      <td>9099.000000</td>\n",
       "      <td>9099.000000</td>\n",
       "      <td>9099.000000</td>\n",
       "      <td>9099.000000</td>\n",
       "      <td>9099.000000</td>\n",
       "      <td>9099.000000</td>\n",
       "      <td>9099.000000</td>\n",
       "      <td>9099.000000</td>\n",
       "    </tr>\n",
       "    <tr>\n",
       "      <th>mean</th>\n",
       "      <td>35.800956</td>\n",
       "      <td>-114.606385</td>\n",
       "      <td>34.668062</td>\n",
       "      <td>-128.082295</td>\n",
       "      <td>2.959138</td>\n",
       "      <td>-32.419233</td>\n",
       "      <td>312.721728</td>\n",
       "      <td>253.065117</td>\n",
       "      <td>529.772360</td>\n",
       "      <td>1.438756</td>\n",
       "      <td>1.181594</td>\n",
       "      <td>0.816678</td>\n",
       "      <td>3.733692</td>\n",
       "      <td>17.752595</td>\n",
       "    </tr>\n",
       "    <tr>\n",
       "      <th>std</th>\n",
       "      <td>69.178147</td>\n",
       "      <td>386.225522</td>\n",
       "      <td>68.259612</td>\n",
       "      <td>365.905481</td>\n",
       "      <td>19.088374</td>\n",
       "      <td>370.770154</td>\n",
       "      <td>654.935174</td>\n",
       "      <td>553.661093</td>\n",
       "      <td>1041.473773</td>\n",
       "      <td>2.042109</td>\n",
       "      <td>1.687907</td>\n",
       "      <td>0.010125</td>\n",
       "      <td>1.321759</td>\n",
       "      <td>1.526101</td>\n",
       "    </tr>\n",
       "    <tr>\n",
       "      <th>min</th>\n",
       "      <td>0.000000</td>\n",
       "      <td>-690.200000</td>\n",
       "      <td>0.000000</td>\n",
       "      <td>-685.900000</td>\n",
       "      <td>0.000000</td>\n",
       "      <td>-379.800000</td>\n",
       "      <td>0.000000</td>\n",
       "      <td>0.000000</td>\n",
       "      <td>0.000000</td>\n",
       "      <td>0.000000</td>\n",
       "      <td>0.000000</td>\n",
       "      <td>0.790000</td>\n",
       "      <td>0.870000</td>\n",
       "      <td>0.000000</td>\n",
       "    </tr>\n",
       "    <tr>\n",
       "      <th>25%</th>\n",
       "      <td>0.000000</td>\n",
       "      <td>-504.250000</td>\n",
       "      <td>0.000000</td>\n",
       "      <td>-302.900000</td>\n",
       "      <td>0.000000</td>\n",
       "      <td>-336.700000</td>\n",
       "      <td>0.000000</td>\n",
       "      <td>0.000000</td>\n",
       "      <td>0.000000</td>\n",
       "      <td>0.000000</td>\n",
       "      <td>0.000000</td>\n",
       "      <td>0.810000</td>\n",
       "      <td>4.290000</td>\n",
       "      <td>16.490000</td>\n",
       "    </tr>\n",
       "    <tr>\n",
       "      <th>50%</th>\n",
       "      <td>0.000000</td>\n",
       "      <td>-106.900000</td>\n",
       "      <td>0.000000</td>\n",
       "      <td>-207.600000</td>\n",
       "      <td>0.000000</td>\n",
       "      <td>-135.200000</td>\n",
       "      <td>1.000000</td>\n",
       "      <td>0.000000</td>\n",
       "      <td>0.000000</td>\n",
       "      <td>0.000000</td>\n",
       "      <td>0.000000</td>\n",
       "      <td>0.820000</td>\n",
       "      <td>4.350000</td>\n",
       "      <td>17.940000</td>\n",
       "    </tr>\n",
       "    <tr>\n",
       "      <th>75%</th>\n",
       "      <td>46.400000</td>\n",
       "      <td>97.800000</td>\n",
       "      <td>43.900000</td>\n",
       "      <td>35.950000</td>\n",
       "      <td>0.000000</td>\n",
       "      <td>488.750000</td>\n",
       "      <td>10.100000</td>\n",
       "      <td>9.100000</td>\n",
       "      <td>18.200000</td>\n",
       "      <td>4.310000</td>\n",
       "      <td>3.440000</td>\n",
       "      <td>0.820000</td>\n",
       "      <td>4.400000</td>\n",
       "      <td>18.950000</td>\n",
       "    </tr>\n",
       "    <tr>\n",
       "      <th>max</th>\n",
       "      <td>261.400000</td>\n",
       "      <td>497.800000</td>\n",
       "      <td>269.700000</td>\n",
       "      <td>523.900000</td>\n",
       "      <td>179.500000</td>\n",
       "      <td>579.000000</td>\n",
       "      <td>2946.000000</td>\n",
       "      <td>2904.500000</td>\n",
       "      <td>4899.600000</td>\n",
       "      <td>4.500000</td>\n",
       "      <td>3.840000</td>\n",
       "      <td>0.840000</td>\n",
       "      <td>4.950000</td>\n",
       "      <td>29.220000</td>\n",
       "    </tr>\n",
       "  </tbody>\n",
       "</table>\n",
       "</div>"
      ],
      "text/plain": [
       "             左阴极电压        左阴极位置        右阴极电压        右阴极位置       中间阳极电压  \\\n",
       "count  9099.000000  9099.000000  9099.000000  9099.000000  9099.000000   \n",
       "mean     35.800956  -114.606385    34.668062  -128.082295     2.959138   \n",
       "std      69.178147   386.225522    68.259612   365.905481    19.088374   \n",
       "min       0.000000  -690.200000     0.000000  -685.900000     0.000000   \n",
       "25%       0.000000  -504.250000     0.000000  -302.900000     0.000000   \n",
       "50%       0.000000  -106.900000     0.000000  -207.600000     0.000000   \n",
       "75%      46.400000    97.800000    43.900000    35.950000     0.000000   \n",
       "max     261.400000   497.800000   269.700000   523.900000   179.500000   \n",
       "\n",
       "            中间阳极位置        左阴极电流        右阴极电流       中间阳极电流         左阴极气  \\\n",
       "count  9099.000000  9099.000000  9099.000000  9099.000000  9099.000000   \n",
       "mean    -32.419233   312.721728   253.065117   529.772360     1.438756   \n",
       "std     370.770154   654.935174   553.661093  1041.473773     2.042109   \n",
       "min    -379.800000     0.000000     0.000000     0.000000     0.000000   \n",
       "25%    -336.700000     0.000000     0.000000     0.000000     0.000000   \n",
       "50%    -135.200000     1.000000     0.000000     0.000000     0.000000   \n",
       "75%     488.750000    10.100000     9.100000    18.200000     4.310000   \n",
       "max     579.000000  2946.000000  2904.500000  4899.600000     4.500000   \n",
       "\n",
       "              右阴极气          水压力          水流量          水温度  \n",
       "count  9099.000000  9099.000000  9099.000000  9099.000000  \n",
       "mean      1.181594     0.816678     3.733692    17.752595  \n",
       "std       1.687907     0.010125     1.321759     1.526101  \n",
       "min       0.000000     0.790000     0.870000     0.000000  \n",
       "25%       0.000000     0.810000     4.290000    16.490000  \n",
       "50%       0.000000     0.820000     4.350000    17.940000  \n",
       "75%       3.440000     0.820000     4.400000    18.950000  \n",
       "max       3.840000     0.840000     4.950000    29.220000  "
      ]
     },
     "execution_count": 251,
     "metadata": {},
     "output_type": "execute_result"
    }
   ],
   "source": [
    "df_train.describe()"
   ]
  },
  {
   "cell_type": "code",
   "execution_count": 252,
   "metadata": {},
   "outputs": [],
   "source": [
    "#异常数据处理（删除左及右电流小于20A的数据）\n",
    "df_train = df_train[df_train['左阴极电流']>20]\n",
    "df_train = df_train[df_train['右阴极电流']>20]"
   ]
  },
  {
   "cell_type": "code",
   "execution_count": 253,
   "metadata": {},
   "outputs": [
    {
     "data": {
      "text/html": [
       "<div>\n",
       "<style scoped>\n",
       "    .dataframe tbody tr th:only-of-type {\n",
       "        vertical-align: middle;\n",
       "    }\n",
       "\n",
       "    .dataframe tbody tr th {\n",
       "        vertical-align: top;\n",
       "    }\n",
       "\n",
       "    .dataframe thead th {\n",
       "        text-align: right;\n",
       "    }\n",
       "</style>\n",
       "<table border=\"1\" class=\"dataframe\">\n",
       "  <thead>\n",
       "    <tr style=\"text-align: right;\">\n",
       "      <th></th>\n",
       "      <th>左阴极电压</th>\n",
       "      <th>左阴极位置</th>\n",
       "      <th>右阴极电压</th>\n",
       "      <th>右阴极位置</th>\n",
       "      <th>中间阳极电压</th>\n",
       "      <th>中间阳极位置</th>\n",
       "      <th>左阴极电流</th>\n",
       "      <th>右阴极电流</th>\n",
       "      <th>中间阳极电流</th>\n",
       "      <th>左阴极气</th>\n",
       "      <th>右阴极气</th>\n",
       "      <th>水压力</th>\n",
       "      <th>水流量</th>\n",
       "      <th>水温度</th>\n",
       "    </tr>\n",
       "  </thead>\n",
       "  <tbody>\n",
       "    <tr>\n",
       "      <th>count</th>\n",
       "      <td>1435.000000</td>\n",
       "      <td>1435.000000</td>\n",
       "      <td>1435.000000</td>\n",
       "      <td>1435.000000</td>\n",
       "      <td>1435.000000</td>\n",
       "      <td>1435.000000</td>\n",
       "      <td>1435.000000</td>\n",
       "      <td>1435.000000</td>\n",
       "      <td>1435.000000</td>\n",
       "      <td>1435.000000</td>\n",
       "      <td>1435.000000</td>\n",
       "      <td>1435.000000</td>\n",
       "      <td>1435.000000</td>\n",
       "      <td>1435.000000</td>\n",
       "    </tr>\n",
       "    <tr>\n",
       "      <th>mean</th>\n",
       "      <td>90.402857</td>\n",
       "      <td>-614.897003</td>\n",
       "      <td>59.818606</td>\n",
       "      <td>-627.127526</td>\n",
       "      <td>2.881533</td>\n",
       "      <td>-370.857491</td>\n",
       "      <td>1563.084948</td>\n",
       "      <td>1336.853380</td>\n",
       "      <td>2690.477491</td>\n",
       "      <td>4.328105</td>\n",
       "      <td>3.646871</td>\n",
       "      <td>0.813247</td>\n",
       "      <td>3.411645</td>\n",
       "      <td>19.036592</td>\n",
       "    </tr>\n",
       "    <tr>\n",
       "      <th>std</th>\n",
       "      <td>41.535004</td>\n",
       "      <td>30.663577</td>\n",
       "      <td>30.112738</td>\n",
       "      <td>23.791069</td>\n",
       "      <td>0.860808</td>\n",
       "      <td>18.973830</td>\n",
       "      <td>448.085314</td>\n",
       "      <td>340.995288</td>\n",
       "      <td>541.127885</td>\n",
       "      <td>0.033962</td>\n",
       "      <td>0.043326</td>\n",
       "      <td>0.009369</td>\n",
       "      <td>1.511237</td>\n",
       "      <td>1.145546</td>\n",
       "    </tr>\n",
       "    <tr>\n",
       "      <th>min</th>\n",
       "      <td>0.000000</td>\n",
       "      <td>-659.400000</td>\n",
       "      <td>0.300000</td>\n",
       "      <td>-685.900000</td>\n",
       "      <td>0.000000</td>\n",
       "      <td>-379.800000</td>\n",
       "      <td>20.300000</td>\n",
       "      <td>42.500000</td>\n",
       "      <td>848.700000</td>\n",
       "      <td>4.240000</td>\n",
       "      <td>3.440000</td>\n",
       "      <td>0.790000</td>\n",
       "      <td>0.870000</td>\n",
       "      <td>1.160000</td>\n",
       "    </tr>\n",
       "    <tr>\n",
       "      <th>25%</th>\n",
       "      <td>61.400000</td>\n",
       "      <td>-643.500000</td>\n",
       "      <td>42.400000</td>\n",
       "      <td>-646.900000</td>\n",
       "      <td>2.500000</td>\n",
       "      <td>-379.800000</td>\n",
       "      <td>1301.900000</td>\n",
       "      <td>1115.500000</td>\n",
       "      <td>2359.700000</td>\n",
       "      <td>4.300000</td>\n",
       "      <td>3.620000</td>\n",
       "      <td>0.810000</td>\n",
       "      <td>1.200000</td>\n",
       "      <td>18.950000</td>\n",
       "    </tr>\n",
       "    <tr>\n",
       "      <th>50%</th>\n",
       "      <td>88.400000</td>\n",
       "      <td>-612.200000</td>\n",
       "      <td>55.600000</td>\n",
       "      <td>-622.600000</td>\n",
       "      <td>3.000000</td>\n",
       "      <td>-379.800000</td>\n",
       "      <td>1564.700000</td>\n",
       "      <td>1352.000000</td>\n",
       "      <td>2738.400000</td>\n",
       "      <td>4.320000</td>\n",
       "      <td>3.640000</td>\n",
       "      <td>0.810000</td>\n",
       "      <td>4.350000</td>\n",
       "      <td>19.240000</td>\n",
       "    </tr>\n",
       "    <tr>\n",
       "      <th>75%</th>\n",
       "      <td>118.550000</td>\n",
       "      <td>-590.200000</td>\n",
       "      <td>77.350000</td>\n",
       "      <td>-616.100000</td>\n",
       "      <td>3.500000</td>\n",
       "      <td>-379.800000</td>\n",
       "      <td>1835.100000</td>\n",
       "      <td>1556.600000</td>\n",
       "      <td>3060.500000</td>\n",
       "      <td>4.350000</td>\n",
       "      <td>3.680000</td>\n",
       "      <td>0.820000</td>\n",
       "      <td>4.440000</td>\n",
       "      <td>19.680000</td>\n",
       "    </tr>\n",
       "    <tr>\n",
       "      <th>max</th>\n",
       "      <td>233.500000</td>\n",
       "      <td>-535.500000</td>\n",
       "      <td>193.100000</td>\n",
       "      <td>-565.200000</td>\n",
       "      <td>17.100000</td>\n",
       "      <td>-266.100000</td>\n",
       "      <td>2946.000000</td>\n",
       "      <td>2904.500000</td>\n",
       "      <td>4899.600000</td>\n",
       "      <td>4.420000</td>\n",
       "      <td>3.730000</td>\n",
       "      <td>0.840000</td>\n",
       "      <td>4.950000</td>\n",
       "      <td>29.220000</td>\n",
       "    </tr>\n",
       "  </tbody>\n",
       "</table>\n",
       "</div>"
      ],
      "text/plain": [
       "             左阴极电压        左阴极位置        右阴极电压        右阴极位置       中间阳极电压  \\\n",
       "count  1435.000000  1435.000000  1435.000000  1435.000000  1435.000000   \n",
       "mean     90.402857  -614.897003    59.818606  -627.127526     2.881533   \n",
       "std      41.535004    30.663577    30.112738    23.791069     0.860808   \n",
       "min       0.000000  -659.400000     0.300000  -685.900000     0.000000   \n",
       "25%      61.400000  -643.500000    42.400000  -646.900000     2.500000   \n",
       "50%      88.400000  -612.200000    55.600000  -622.600000     3.000000   \n",
       "75%     118.550000  -590.200000    77.350000  -616.100000     3.500000   \n",
       "max     233.500000  -535.500000   193.100000  -565.200000    17.100000   \n",
       "\n",
       "            中间阳极位置        左阴极电流        右阴极电流       中间阳极电流         左阴极气  \\\n",
       "count  1435.000000  1435.000000  1435.000000  1435.000000  1435.000000   \n",
       "mean   -370.857491  1563.084948  1336.853380  2690.477491     4.328105   \n",
       "std      18.973830   448.085314   340.995288   541.127885     0.033962   \n",
       "min    -379.800000    20.300000    42.500000   848.700000     4.240000   \n",
       "25%    -379.800000  1301.900000  1115.500000  2359.700000     4.300000   \n",
       "50%    -379.800000  1564.700000  1352.000000  2738.400000     4.320000   \n",
       "75%    -379.800000  1835.100000  1556.600000  3060.500000     4.350000   \n",
       "max    -266.100000  2946.000000  2904.500000  4899.600000     4.420000   \n",
       "\n",
       "              右阴极气          水压力          水流量          水温度  \n",
       "count  1435.000000  1435.000000  1435.000000  1435.000000  \n",
       "mean      3.646871     0.813247     3.411645    19.036592  \n",
       "std       0.043326     0.009369     1.511237     1.145546  \n",
       "min       3.440000     0.790000     0.870000     1.160000  \n",
       "25%       3.620000     0.810000     1.200000    18.950000  \n",
       "50%       3.640000     0.810000     4.350000    19.240000  \n",
       "75%       3.680000     0.820000     4.440000    19.680000  \n",
       "max       3.730000     0.840000     4.950000    29.220000  "
      ]
     },
     "execution_count": 253,
     "metadata": {},
     "output_type": "execute_result"
    }
   ],
   "source": [
    "df_train.describe()"
   ]
  },
  {
   "cell_type": "code",
   "execution_count": 254,
   "metadata": {},
   "outputs": [],
   "source": [
    "df_trainY = df_train['左阴极电压']\n",
    "df_trainx = df_train.drop(['左阴极电压'],axis=1)\n",
    "df_trainx = df_trainx.drop(['时间'],axis=1)"
   ]
  },
  {
   "cell_type": "code",
   "execution_count": 255,
   "metadata": {},
   "outputs": [
    {
     "name": "stdout",
     "output_type": "stream",
     "text": [
      "(1435, 13)\n",
      "(1435,)\n"
     ]
    }
   ],
   "source": [
    "print(df_trainx.shape)\n",
    "print(df_trainY.shape)"
   ]
  },
  {
   "cell_type": "code",
   "execution_count": 256,
   "metadata": {},
   "outputs": [
    {
     "data": {
      "text/html": [
       "<div>\n",
       "<style scoped>\n",
       "    .dataframe tbody tr th:only-of-type {\n",
       "        vertical-align: middle;\n",
       "    }\n",
       "\n",
       "    .dataframe tbody tr th {\n",
       "        vertical-align: top;\n",
       "    }\n",
       "\n",
       "    .dataframe thead th {\n",
       "        text-align: right;\n",
       "    }\n",
       "</style>\n",
       "<table border=\"1\" class=\"dataframe\">\n",
       "  <thead>\n",
       "    <tr style=\"text-align: right;\">\n",
       "      <th></th>\n",
       "      <th>左阴极位置</th>\n",
       "      <th>右阴极电压</th>\n",
       "      <th>右阴极位置</th>\n",
       "      <th>中间阳极电压</th>\n",
       "      <th>中间阳极位置</th>\n",
       "      <th>左阴极电流</th>\n",
       "      <th>右阴极电流</th>\n",
       "      <th>中间阳极电流</th>\n",
       "      <th>左阴极气</th>\n",
       "      <th>右阴极气</th>\n",
       "      <th>水压力</th>\n",
       "      <th>水流量</th>\n",
       "      <th>水温度</th>\n",
       "    </tr>\n",
       "  </thead>\n",
       "  <tbody>\n",
       "    <tr>\n",
       "      <th>244</th>\n",
       "      <td>-535.5</td>\n",
       "      <td>37.5</td>\n",
       "      <td>-600.6</td>\n",
       "      <td>1.3</td>\n",
       "      <td>-266.1</td>\n",
       "      <td>133.7</td>\n",
       "      <td>1390.5</td>\n",
       "      <td>1626.4</td>\n",
       "      <td>4.37</td>\n",
       "      <td>3.71</td>\n",
       "      <td>0.82</td>\n",
       "      <td>4.33</td>\n",
       "      <td>15.48</td>\n",
       "    </tr>\n",
       "    <tr>\n",
       "      <th>248</th>\n",
       "      <td>-535.5</td>\n",
       "      <td>0.7</td>\n",
       "      <td>-618.3</td>\n",
       "      <td>17.1</td>\n",
       "      <td>-266.1</td>\n",
       "      <td>699.8</td>\n",
       "      <td>1460.4</td>\n",
       "      <td>1585.9</td>\n",
       "      <td>4.37</td>\n",
       "      <td>3.71</td>\n",
       "      <td>0.82</td>\n",
       "      <td>4.33</td>\n",
       "      <td>15.19</td>\n",
       "    </tr>\n",
       "    <tr>\n",
       "      <th>269</th>\n",
       "      <td>-560.5</td>\n",
       "      <td>50.2</td>\n",
       "      <td>-584.5</td>\n",
       "      <td>2.9</td>\n",
       "      <td>-318.3</td>\n",
       "      <td>1386.4</td>\n",
       "      <td>977.3</td>\n",
       "      <td>2179.4</td>\n",
       "      <td>4.38</td>\n",
       "      <td>3.63</td>\n",
       "      <td>0.83</td>\n",
       "      <td>4.40</td>\n",
       "      <td>15.48</td>\n",
       "    </tr>\n",
       "    <tr>\n",
       "      <th>270</th>\n",
       "      <td>-560.7</td>\n",
       "      <td>51.2</td>\n",
       "      <td>-584.5</td>\n",
       "      <td>2.2</td>\n",
       "      <td>-318.3</td>\n",
       "      <td>1408.7</td>\n",
       "      <td>883.1</td>\n",
       "      <td>1687.2</td>\n",
       "      <td>4.39</td>\n",
       "      <td>3.65</td>\n",
       "      <td>0.82</td>\n",
       "      <td>4.33</td>\n",
       "      <td>15.19</td>\n",
       "    </tr>\n",
       "    <tr>\n",
       "      <th>271</th>\n",
       "      <td>-560.9</td>\n",
       "      <td>49.2</td>\n",
       "      <td>-584.5</td>\n",
       "      <td>2.3</td>\n",
       "      <td>-318.3</td>\n",
       "      <td>1997.1</td>\n",
       "      <td>829.4</td>\n",
       "      <td>1899.9</td>\n",
       "      <td>4.39</td>\n",
       "      <td>3.64</td>\n",
       "      <td>0.82</td>\n",
       "      <td>4.31</td>\n",
       "      <td>15.34</td>\n",
       "    </tr>\n",
       "  </tbody>\n",
       "</table>\n",
       "</div>"
      ],
      "text/plain": [
       "     左阴极位置  右阴极电压  右阴极位置  中间阳极电压  中间阳极位置   左阴极电流   右阴极电流  中间阳极电流  左阴极气  右阴极气  \\\n",
       "244 -535.5   37.5 -600.6     1.3  -266.1   133.7  1390.5  1626.4  4.37  3.71   \n",
       "248 -535.5    0.7 -618.3    17.1  -266.1   699.8  1460.4  1585.9  4.37  3.71   \n",
       "269 -560.5   50.2 -584.5     2.9  -318.3  1386.4   977.3  2179.4  4.38  3.63   \n",
       "270 -560.7   51.2 -584.5     2.2  -318.3  1408.7   883.1  1687.2  4.39  3.65   \n",
       "271 -560.9   49.2 -584.5     2.3  -318.3  1997.1   829.4  1899.9  4.39  3.64   \n",
       "\n",
       "      水压力   水流量    水温度  \n",
       "244  0.82  4.33  15.48  \n",
       "248  0.82  4.33  15.19  \n",
       "269  0.83  4.40  15.48  \n",
       "270  0.82  4.33  15.19  \n",
       "271  0.82  4.31  15.34  "
      ]
     },
     "execution_count": 256,
     "metadata": {},
     "output_type": "execute_result"
    }
   ],
   "source": [
    "df_trainx.head()"
   ]
  },
  {
   "cell_type": "code",
   "execution_count": 257,
   "metadata": {},
   "outputs": [],
   "source": [
    "#lightBGM参数设置"
   ]
  },
  {
   "cell_type": "code",
   "execution_count": 258,
   "metadata": {},
   "outputs": [],
   "source": [
    "param = {'num_leaves': 15,\n",
    "         'min_data_in_leaf': 6, \n",
    "         'objective':'regression',\n",
    "         'max_depth': -1,\n",
    "         'learning_rate': 0.005,\n",
    "         \"boosting\": \"gbdt\",\n",
    "         \"feature_fraction\": 0.9,\n",
    "         \"bagging_freq\": 1,\n",
    "         \"bagging_fraction\": 0.9,\n",
    "         \"bagging_seed\": 11,\n",
    "         \"metric\": 'rmse',\n",
    "         'lambda_l1': 1.2,#1.3! #5 #1.2 #1\n",
    "          'lambda_l2': 0.1,#0.1\n",
    "         \"verbosity\": -1}\n"
   ]
  },
  {
   "cell_type": "code",
   "execution_count": 259,
   "metadata": {},
   "outputs": [],
   "source": [
    "folds = KFold(n_splits=5, shuffle=True, random_state=15)\n",
    "oof = np.zeros(len(df_trainx))\n",
    "predictions = np.zeros(len(df_trainY))"
   ]
  },
  {
   "cell_type": "code",
   "execution_count": 260,
   "metadata": {},
   "outputs": [],
   "source": [
    "df_train = df_trainx\n",
    "target = df_trainY"
   ]
  },
  {
   "cell_type": "code",
   "execution_count": 261,
   "metadata": {},
   "outputs": [
    {
     "data": {
      "text/html": [
       "<div>\n",
       "<style scoped>\n",
       "    .dataframe tbody tr th:only-of-type {\n",
       "        vertical-align: middle;\n",
       "    }\n",
       "\n",
       "    .dataframe tbody tr th {\n",
       "        vertical-align: top;\n",
       "    }\n",
       "\n",
       "    .dataframe thead th {\n",
       "        text-align: right;\n",
       "    }\n",
       "</style>\n",
       "<table border=\"1\" class=\"dataframe\">\n",
       "  <thead>\n",
       "    <tr style=\"text-align: right;\">\n",
       "      <th></th>\n",
       "      <th>左阴极位置</th>\n",
       "      <th>右阴极电压</th>\n",
       "      <th>右阴极位置</th>\n",
       "      <th>中间阳极电压</th>\n",
       "      <th>中间阳极位置</th>\n",
       "      <th>左阴极电流</th>\n",
       "      <th>右阴极电流</th>\n",
       "      <th>中间阳极电流</th>\n",
       "      <th>左阴极气</th>\n",
       "      <th>右阴极气</th>\n",
       "      <th>水压力</th>\n",
       "      <th>水流量</th>\n",
       "      <th>水温度</th>\n",
       "    </tr>\n",
       "  </thead>\n",
       "  <tbody>\n",
       "    <tr>\n",
       "      <th>244</th>\n",
       "      <td>-535.5</td>\n",
       "      <td>37.5</td>\n",
       "      <td>-600.6</td>\n",
       "      <td>1.3</td>\n",
       "      <td>-266.1</td>\n",
       "      <td>133.7</td>\n",
       "      <td>1390.5</td>\n",
       "      <td>1626.4</td>\n",
       "      <td>4.37</td>\n",
       "      <td>3.71</td>\n",
       "      <td>0.82</td>\n",
       "      <td>4.33</td>\n",
       "      <td>15.48</td>\n",
       "    </tr>\n",
       "    <tr>\n",
       "      <th>248</th>\n",
       "      <td>-535.5</td>\n",
       "      <td>0.7</td>\n",
       "      <td>-618.3</td>\n",
       "      <td>17.1</td>\n",
       "      <td>-266.1</td>\n",
       "      <td>699.8</td>\n",
       "      <td>1460.4</td>\n",
       "      <td>1585.9</td>\n",
       "      <td>4.37</td>\n",
       "      <td>3.71</td>\n",
       "      <td>0.82</td>\n",
       "      <td>4.33</td>\n",
       "      <td>15.19</td>\n",
       "    </tr>\n",
       "    <tr>\n",
       "      <th>269</th>\n",
       "      <td>-560.5</td>\n",
       "      <td>50.2</td>\n",
       "      <td>-584.5</td>\n",
       "      <td>2.9</td>\n",
       "      <td>-318.3</td>\n",
       "      <td>1386.4</td>\n",
       "      <td>977.3</td>\n",
       "      <td>2179.4</td>\n",
       "      <td>4.38</td>\n",
       "      <td>3.63</td>\n",
       "      <td>0.83</td>\n",
       "      <td>4.40</td>\n",
       "      <td>15.48</td>\n",
       "    </tr>\n",
       "    <tr>\n",
       "      <th>270</th>\n",
       "      <td>-560.7</td>\n",
       "      <td>51.2</td>\n",
       "      <td>-584.5</td>\n",
       "      <td>2.2</td>\n",
       "      <td>-318.3</td>\n",
       "      <td>1408.7</td>\n",
       "      <td>883.1</td>\n",
       "      <td>1687.2</td>\n",
       "      <td>4.39</td>\n",
       "      <td>3.65</td>\n",
       "      <td>0.82</td>\n",
       "      <td>4.33</td>\n",
       "      <td>15.19</td>\n",
       "    </tr>\n",
       "    <tr>\n",
       "      <th>271</th>\n",
       "      <td>-560.9</td>\n",
       "      <td>49.2</td>\n",
       "      <td>-584.5</td>\n",
       "      <td>2.3</td>\n",
       "      <td>-318.3</td>\n",
       "      <td>1997.1</td>\n",
       "      <td>829.4</td>\n",
       "      <td>1899.9</td>\n",
       "      <td>4.39</td>\n",
       "      <td>3.64</td>\n",
       "      <td>0.82</td>\n",
       "      <td>4.31</td>\n",
       "      <td>15.34</td>\n",
       "    </tr>\n",
       "  </tbody>\n",
       "</table>\n",
       "</div>"
      ],
      "text/plain": [
       "     左阴极位置  右阴极电压  右阴极位置  中间阳极电压  中间阳极位置   左阴极电流   右阴极电流  中间阳极电流  左阴极气  右阴极气  \\\n",
       "244 -535.5   37.5 -600.6     1.3  -266.1   133.7  1390.5  1626.4  4.37  3.71   \n",
       "248 -535.5    0.7 -618.3    17.1  -266.1   699.8  1460.4  1585.9  4.37  3.71   \n",
       "269 -560.5   50.2 -584.5     2.9  -318.3  1386.4   977.3  2179.4  4.38  3.63   \n",
       "270 -560.7   51.2 -584.5     2.2  -318.3  1408.7   883.1  1687.2  4.39  3.65   \n",
       "271 -560.9   49.2 -584.5     2.3  -318.3  1997.1   829.4  1899.9  4.39  3.64   \n",
       "\n",
       "      水压力   水流量    水温度  \n",
       "244  0.82  4.33  15.48  \n",
       "248  0.82  4.33  15.19  \n",
       "269  0.83  4.40  15.48  \n",
       "270  0.82  4.33  15.19  \n",
       "271  0.82  4.31  15.34  "
      ]
     },
     "execution_count": 261,
     "metadata": {},
     "output_type": "execute_result"
    }
   ],
   "source": [
    "use_cols = [c for c in df_train.columns]\n",
    "features = list(df_train[use_cols].columns)\n",
    "\n",
    "df_train[features].head()"
   ]
  },
  {
   "cell_type": "code",
   "execution_count": 262,
   "metadata": {},
   "outputs": [
    {
     "name": "stdout",
     "output_type": "stream",
     "text": [
      "-\n",
      "Fold 1\n",
      "Training until validation scores don't improve for 100 rounds.\n",
      "[100]\ttraining's rmse: 32.7072\tvalid_1's rmse: 32.6121\n",
      "[200]\ttraining's rmse: 27.6779\tvalid_1's rmse: 28.7773\n",
      "[300]\ttraining's rmse: 24.7559\tvalid_1's rmse: 26.8599\n",
      "[400]\ttraining's rmse: 22.8927\tvalid_1's rmse: 25.8168\n",
      "[500]\ttraining's rmse: 21.5761\tvalid_1's rmse: 25.2503\n",
      "[600]\ttraining's rmse: 20.5793\tvalid_1's rmse: 24.8996\n",
      "[700]\ttraining's rmse: 19.7824\tvalid_1's rmse: 24.7037\n",
      "[800]\ttraining's rmse: 19.0919\tvalid_1's rmse: 24.5601\n",
      "[900]\ttraining's rmse: 18.4687\tvalid_1's rmse: 24.4868\n",
      "[1000]\ttraining's rmse: 17.9244\tvalid_1's rmse: 24.4197\n",
      "[1100]\ttraining's rmse: 17.3974\tvalid_1's rmse: 24.3773\n",
      "[1200]\ttraining's rmse: 16.9402\tvalid_1's rmse: 24.3487\n",
      "[1300]\ttraining's rmse: 16.5112\tvalid_1's rmse: 24.3478\n",
      "[1400]\ttraining's rmse: 16.0969\tvalid_1's rmse: 24.3276\n",
      "[1500]\ttraining's rmse: 15.71\tvalid_1's rmse: 24.3172\n",
      "[1600]\ttraining's rmse: 15.3369\tvalid_1's rmse: 24.3159\n",
      "Early stopping, best iteration is:\n",
      "[1550]\ttraining's rmse: 15.5135\tvalid_1's rmse: 24.3117\n",
      "-\n",
      "Fold 2\n",
      "Training until validation scores don't improve for 100 rounds.\n",
      "[100]\ttraining's rmse: 33.1507\tvalid_1's rmse: 30.5861\n",
      "[200]\ttraining's rmse: 28.1099\tvalid_1's rmse: 26.7454\n",
      "[300]\ttraining's rmse: 25.0734\tvalid_1's rmse: 24.9244\n",
      "[400]\ttraining's rmse: 23.1502\tvalid_1's rmse: 24.0844\n",
      "[500]\ttraining's rmse: 21.7994\tvalid_1's rmse: 23.6379\n",
      "[600]\ttraining's rmse: 20.7735\tvalid_1's rmse: 23.455\n",
      "[700]\ttraining's rmse: 19.9422\tvalid_1's rmse: 23.3536\n",
      "[800]\ttraining's rmse: 19.247\tvalid_1's rmse: 23.2799\n",
      "[900]\ttraining's rmse: 18.6367\tvalid_1's rmse: 23.2905\n",
      "Early stopping, best iteration is:\n",
      "[826]\ttraining's rmse: 19.0808\tvalid_1's rmse: 23.267\n",
      "-\n",
      "Fold 3\n",
      "Training until validation scores don't improve for 100 rounds.\n",
      "[100]\ttraining's rmse: 32.3173\tvalid_1's rmse: 34.0704\n",
      "[200]\ttraining's rmse: 27.4036\tvalid_1's rmse: 30.1592\n",
      "[300]\ttraining's rmse: 24.5392\tvalid_1's rmse: 28.1274\n",
      "[400]\ttraining's rmse: 22.6957\tvalid_1's rmse: 27.0434\n",
      "[500]\ttraining's rmse: 21.4256\tvalid_1's rmse: 26.4641\n",
      "[600]\ttraining's rmse: 20.4543\tvalid_1's rmse: 26.1324\n",
      "[700]\ttraining's rmse: 19.6752\tvalid_1's rmse: 25.9305\n",
      "[800]\ttraining's rmse: 19.0004\tvalid_1's rmse: 25.8301\n",
      "[900]\ttraining's rmse: 18.3936\tvalid_1's rmse: 25.7538\n",
      "[1000]\ttraining's rmse: 17.8598\tvalid_1's rmse: 25.705\n",
      "[1100]\ttraining's rmse: 17.3606\tvalid_1's rmse: 25.642\n",
      "[1200]\ttraining's rmse: 16.8899\tvalid_1's rmse: 25.619\n",
      "[1300]\ttraining's rmse: 16.4482\tvalid_1's rmse: 25.5769\n",
      "[1400]\ttraining's rmse: 16.0416\tvalid_1's rmse: 25.5277\n",
      "[1500]\ttraining's rmse: 15.6469\tvalid_1's rmse: 25.5187\n",
      "[1600]\ttraining's rmse: 15.2681\tvalid_1's rmse: 25.476\n",
      "[1700]\ttraining's rmse: 14.9154\tvalid_1's rmse: 25.4493\n",
      "[1800]\ttraining's rmse: 14.5638\tvalid_1's rmse: 25.4255\n",
      "[1900]\ttraining's rmse: 14.2417\tvalid_1's rmse: 25.4256\n",
      "Early stopping, best iteration is:\n",
      "[1865]\ttraining's rmse: 14.3523\tvalid_1's rmse: 25.4165\n",
      "-\n",
      "Fold 4\n",
      "Training until validation scores don't improve for 100 rounds.\n",
      "[100]\ttraining's rmse: 32.1913\tvalid_1's rmse: 34.6511\n",
      "[200]\ttraining's rmse: 27.2974\tvalid_1's rmse: 30.3561\n",
      "[300]\ttraining's rmse: 24.3887\tvalid_1's rmse: 28.1437\n",
      "[400]\ttraining's rmse: 22.5103\tvalid_1's rmse: 27.0013\n",
      "[500]\ttraining's rmse: 21.2105\tvalid_1's rmse: 26.4024\n",
      "[600]\ttraining's rmse: 20.2128\tvalid_1's rmse: 26.0711\n",
      "[700]\ttraining's rmse: 19.4144\tvalid_1's rmse: 25.8922\n",
      "[800]\ttraining's rmse: 18.7328\tvalid_1's rmse: 25.7714\n",
      "[900]\ttraining's rmse: 18.1352\tvalid_1's rmse: 25.6529\n",
      "[1000]\ttraining's rmse: 17.5925\tvalid_1's rmse: 25.6091\n",
      "[1100]\ttraining's rmse: 17.0971\tvalid_1's rmse: 25.5743\n",
      "Early stopping, best iteration is:\n",
      "[1084]\ttraining's rmse: 17.177\tvalid_1's rmse: 25.5613\n",
      "-\n",
      "Fold 5\n",
      "Training until validation scores don't improve for 100 rounds.\n",
      "[100]\ttraining's rmse: 32.0905\tvalid_1's rmse: 34.8351\n",
      "[200]\ttraining's rmse: 27.2975\tvalid_1's rmse: 30.5707\n",
      "[300]\ttraining's rmse: 24.5655\tvalid_1's rmse: 28.427\n",
      "[400]\ttraining's rmse: 22.8369\tvalid_1's rmse: 27.293\n",
      "[500]\ttraining's rmse: 21.6316\tvalid_1's rmse: 26.5257\n",
      "[600]\ttraining's rmse: 20.6843\tvalid_1's rmse: 26.0954\n",
      "[700]\ttraining's rmse: 19.9166\tvalid_1's rmse: 25.8194\n",
      "[800]\ttraining's rmse: 19.2546\tvalid_1's rmse: 25.5891\n",
      "[900]\ttraining's rmse: 18.6632\tvalid_1's rmse: 25.4134\n",
      "[1000]\ttraining's rmse: 18.1576\tvalid_1's rmse: 25.2743\n",
      "[1100]\ttraining's rmse: 17.6703\tvalid_1's rmse: 25.1813\n",
      "[1200]\ttraining's rmse: 17.2161\tvalid_1's rmse: 25.0808\n",
      "[1300]\ttraining's rmse: 16.7972\tvalid_1's rmse: 25.0122\n",
      "[1400]\ttraining's rmse: 16.3948\tvalid_1's rmse: 24.9623\n",
      "[1500]\ttraining's rmse: 16.0169\tvalid_1's rmse: 24.8916\n",
      "[1600]\ttraining's rmse: 15.6481\tvalid_1's rmse: 24.8507\n",
      "[1700]\ttraining's rmse: 15.3003\tvalid_1's rmse: 24.8259\n",
      "[1800]\ttraining's rmse: 14.9624\tvalid_1's rmse: 24.7912\n",
      "[1900]\ttraining's rmse: 14.6387\tvalid_1's rmse: 24.7672\n",
      "[2000]\ttraining's rmse: 14.3097\tvalid_1's rmse: 24.7561\n",
      "Early stopping, best iteration is:\n",
      "[1941]\ttraining's rmse: 14.5011\tvalid_1's rmse: 24.7522\n"
     ]
    }
   ],
   "source": [
    "for fold_, (trn_idx, val_idx) in enumerate(folds.split(df_train.values, target.values)):\n",
    "    print('-')\n",
    "    print(\"Fold {}\".format(fold_ + 1))\n",
    "    trn_data = lgb.Dataset(df_train.iloc[trn_idx][features], label=target.iloc[trn_idx])\n",
    "    val_data = lgb.Dataset(df_train.iloc[val_idx][features], label=target.iloc[val_idx])\n",
    "\n",
    "    num_round = 5000\n",
    "    clf = lgb.train(param, trn_data, num_round, valid_sets = [trn_data, val_data], verbose_eval=100, early_stopping_rounds=100)\n",
    "    "
   ]
  },
  {
   "cell_type": "code",
   "execution_count": 263,
   "metadata": {},
   "outputs": [],
   "source": [
    "#oof[val_idx] = clf.predict(df_train.iloc[val_idx][features], num_iteration=clf.best_iteration)\n",
    "   # predictions += clf.predict(df_test[features], num_iteration=clf.best_iteration) / folds.n_splits"
   ]
  },
  {
   "cell_type": "code",
   "execution_count": 264,
   "metadata": {},
   "outputs": [],
   "source": [
    "#from sklearn.metrics import mean_squared_error\n",
    "#val_score = np.sqrt(mean_squared_error(target, oof))\n",
    "#val_score"
   ]
  },
  {
   "cell_type": "code",
   "execution_count": 265,
   "metadata": {},
   "outputs": [
    {
     "data": {
      "image/png": "[encoded data removed]",
      "text/plain": [
       "<Figure size 864x720 with 1 Axes>"
      ]
     },
     "metadata": {
      "needs_background": "light"
     },
     "output_type": "display_data"
    }
   ],
   "source": [
    "fig, ax = plt.subplots(figsize=(12,10))\n",
    "lgb.plot_importance(clf, max_num_features=30, height=0.5, ax=ax, title='Feature importance', xlabel='Feature importance', ylabel='Features')\n",
    "plt.savefig('E:\\\\kaggle\\\\jia\\\\图片保存\\\\lgb.png')\n",
    "plt.show()"
   ]
  },
  {
   "cell_type": "code",
   "execution_count": 266,
   "metadata": {},
   "outputs": [
    {
     "data": {
      "text/plain": [
       "[(3605, '中间阳极电流'),\n",
       " (3512, '左阴极电流'),\n",
       " (3436, '左阴极位置'),\n",
       " (3231, '右阴极电流'),\n",
       " (3185, '右阴极电压'),\n",
       " (2143, '中间阳极电压'),\n",
       " (1965, '水流量'),\n",
       " (1512, '右阴极位置'),\n",
       " (1303, '右阴极气'),\n",
       " (1282, '左阴极气'),\n",
       " (1166, '水温度'),\n",
       " (450, '水压力'),\n",
       " (384, '中间阳极位置')]"
      ]
     },
     "execution_count": 266,
     "metadata": {},
     "output_type": "execute_result"
    }
   ],
   "source": [
    "sorted(list(zip(clf.feature_importance(), features)), reverse=True)"
   ]
  },
  {
   "cell_type": "code",
   "execution_count": 267,
   "metadata": {},
   "outputs": [],
   "source": [
    "#df_sub = pd.DataFrame(df_test.values)\n",
    "#df_sub[\"target\"] = predictions\n",
    "#df_sub.to_csv(\"E:\\kaggle\\zengqisai\\\\sub_val_{}.csv\".format(val_score), index=False)"
   ]
  },
  {
   "cell_type": "code",
   "execution_count": null,
   "metadata": {},
   "outputs": [],
   "source": []
  },
  {
   "cell_type": "code",
   "execution_count": 268,
   "metadata": {},
   "outputs": [],
   "source": [
    "from sklearn.pipeline import make_pipeline\n",
    "from sklearn.svm import SVR"
   ]
  },
  {
   "cell_type": "code",
   "execution_count": 269,
   "metadata": {},
   "outputs": [],
   "source": [
    "svr = make_pipeline( SVR(kernel='linear'))"
   ]
  },
  {
   "cell_type": "code",
   "execution_count": 270,
   "metadata": {},
   "outputs": [],
   "source": [
    "import xgboost as xgb"
   ]
  },
  {
   "cell_type": "code",
   "execution_count": 271,
   "metadata": {},
   "outputs": [],
   "source": [
    "df_trainY = df_trainY\n",
    "df_trainX = df_trainx"
   ]
  },
  {
   "cell_type": "code",
   "execution_count": 272,
   "metadata": {},
   "outputs": [
    {
     "name": "stdout",
     "output_type": "stream",
     "text": [
      "(1435,)\n",
      "(1435, 13)\n"
     ]
    }
   ],
   "source": [
    "print(df_trainY.shape)\n",
    "print(df_trainX.shape)"
   ]
  },
  {
   "cell_type": "code",
   "execution_count": 273,
   "metadata": {},
   "outputs": [],
   "source": [
    "#model_xgb = xgb.XGBRegressor(booster='gbtree',colsample_bytree=0.8, gamma=0.1, \n",
    "                    #learning_rate=0.02, max_depth=5, \n",
    "                            # n_estimators=500,min_child_weight=0.8,\n",
    "                            # reg_alpha=0, reg_lambda=1,\n",
    "                             #subsample=0.8, silent=1,\n",
    "                            # random_state =42, nthread = 2)\n"
   ]
  },
  {
   "cell_type": "code",
   "execution_count": 274,
   "metadata": {},
   "outputs": [],
   "source": [
    "from sklearn.model_selection import train_test_split as tts\n",
    "Trn_x,val_x,Trn_y,val_y = tts(df_trainX,df_trainY,test_size =0.1,random_state = 7)\n",
    "trn_x , test_x, trn_y, test_y = tts(Trn_x , Trn_y, test_size =0.1, random_state = 7)"
   ]
  },
  {
   "cell_type": "code",
   "execution_count": null,
   "metadata": {},
   "outputs": [],
   "source": []
  },
  {
   "cell_type": "code",
   "execution_count": 275,
   "metadata": {},
   "outputs": [],
   "source": [
    "# converting into xgb DMatrix\n",
    "Train = xgb.DMatrix(trn_x,label = trn_y)\n",
    "Validation = xgb.DMatrix(val_x, label = val_y)\n",
    "Test = xgb.DMatrix(test_x)"
   ]
  },
  {
   "cell_type": "code",
   "execution_count": 276,
   "metadata": {},
   "outputs": [],
   "source": [
    "params = {\"booster\":\"gbtree\",\"eta\":0.1,'min_split_loss':0,'max_depth':5,\n",
    "         'min_child_weight':1, 'max_delta_step':0,'subsample':1,'colsample_bytree':1,\n",
    "         'colsample_bylevel':1,'reg_lambda':1,'reg_alpha':0,\n",
    "         'grow_policy':'depthwise','max_leaves':0,'objective':'reg:linear','eval_metric':'rmse',\n",
    "         'seed':7,'lambda':0.1}\n",
    "history ={}  # This will record rmse score of training and test set\n",
    "eval_list =[(Train,\"Training\"),(Validation,\"Validation\")]"
   ]
  },
  {
   "cell_type": "code",
   "execution_count": 277,
   "metadata": {},
   "outputs": [
    {
     "name": "stdout",
     "output_type": "stream",
     "text": [
      "[09:26:53] C:\\Users\\Administrator\\Desktop\\xgboost\\src\\tree\\updater_prune.cc:74: tree pruning end, 1 roots, 52 extra nodes, 0 pruned nodes, max_depth=5\n",
      "[0]\tTraining-rmse:89.856\tValidation-rmse:90.3946\n",
      "Multiple eval metrics have been passed: 'Validation-rmse' will be used for early stopping.\n",
      "\n",
      "Will train until Validation-rmse hasn't improved in 40 rounds.\n",
      "[09:26:53] C:\\Users\\Administrator\\Desktop\\xgboost\\src\\tree\\updater_prune.cc:74: tree pruning end, 1 roots, 54 extra nodes, 0 pruned nodes, max_depth=5\n",
      "[1]\tTraining-rmse:81.7485\tValidation-rmse:82.2498\n",
      "[09:26:53] C:\\Users\\Administrator\\Desktop\\xgboost\\src\\tree\\updater_prune.cc:74: tree pruning end, 1 roots, 54 extra nodes, 0 pruned nodes, max_depth=5\n",
      "[2]\tTraining-rmse:74.506\tValidation-rmse:75.1063\n",
      "[09:26:53] C:\\Users\\Administrator\\Desktop\\xgboost\\src\\tree\\updater_prune.cc:74: tree pruning end, 1 roots, 54 extra nodes, 0 pruned nodes, max_depth=5\n",
      "[3]\tTraining-rmse:68.04\tValidation-rmse:68.6472\n",
      "[09:26:53] C:\\Users\\Administrator\\Desktop\\xgboost\\src\\tree\\updater_prune.cc:74: tree pruning end, 1 roots, 58 extra nodes, 0 pruned nodes, max_depth=5\n",
      "[4]\tTraining-rmse:62.1772\tValidation-rmse:62.8537\n",
      "[09:26:53] C:\\Users\\Administrator\\Desktop\\xgboost\\src\\tree\\updater_prune.cc:74: tree pruning end, 1 roots, 56 extra nodes, 0 pruned nodes, max_depth=5\n",
      "[5]\tTraining-rmse:57.0122\tValidation-rmse:57.9272\n",
      "[09:26:53] C:\\Users\\Administrator\\Desktop\\xgboost\\src\\tree\\updater_prune.cc:74: tree pruning end, 1 roots, 58 extra nodes, 0 pruned nodes, max_depth=5\n",
      "[6]\tTraining-rmse:52.3542\tValidation-rmse:53.3983\n",
      "[09:26:53] C:\\Users\\Administrator\\Desktop\\xgboost\\src\\tree\\updater_prune.cc:74: tree pruning end, 1 roots, 50 extra nodes, 0 pruned nodes, max_depth=5\n",
      "[7]\tTraining-rmse:48.2649\tValidation-rmse:49.6232\n",
      "[09:26:53] C:\\Users\\Administrator\\Desktop\\xgboost\\src\\tree\\updater_prune.cc:74: tree pruning end, 1 roots, 60 extra nodes, 0 pruned nodes, max_depth=5\n",
      "[8]\tTraining-rmse:44.5735\tValidation-rmse:46.2853\n",
      "[09:26:53] C:\\Users\\Administrator\\Desktop\\xgboost\\src\\tree\\updater_prune.cc:74: tree pruning end, 1 roots, 62 extra nodes, 0 pruned nodes, max_depth=5\n",
      "[9]\tTraining-rmse:41.3083\tValidation-rmse:43.1712\n",
      "[09:26:53] C:\\Users\\Administrator\\Desktop\\xgboost\\src\\tree\\updater_prune.cc:74: tree pruning end, 1 roots, 56 extra nodes, 0 pruned nodes, max_depth=5\n",
      "[10]\tTraining-rmse:38.4443\tValidation-rmse:40.6145\n",
      "[09:26:53] C:\\Users\\Administrator\\Desktop\\xgboost\\src\\tree\\updater_prune.cc:74: tree pruning end, 1 roots, 62 extra nodes, 0 pruned nodes, max_depth=5\n",
      "[11]\tTraining-rmse:35.9165\tValidation-rmse:38.3594\n",
      "[09:26:53] C:\\Users\\Administrator\\Desktop\\xgboost\\src\\tree\\updater_prune.cc:74: tree pruning end, 1 roots, 56 extra nodes, 0 pruned nodes, max_depth=5\n",
      "[12]\tTraining-rmse:33.6779\tValidation-rmse:36.3446\n",
      "[09:26:53] C:\\Users\\Administrator\\Desktop\\xgboost\\src\\tree\\updater_prune.cc:74: tree pruning end, 1 roots, 50 extra nodes, 0 pruned nodes, max_depth=5\n",
      "[13]\tTraining-rmse:31.6742\tValidation-rmse:34.6121\n",
      "[09:26:53] C:\\Users\\Administrator\\Desktop\\xgboost\\src\\tree\\updater_prune.cc:74: tree pruning end, 1 roots, 56 extra nodes, 0 pruned nodes, max_depth=5\n",
      "[14]\tTraining-rmse:29.9405\tValidation-rmse:33.3131\n",
      "[09:26:53] C:\\Users\\Administrator\\Desktop\\xgboost\\src\\tree\\updater_prune.cc:74: tree pruning end, 1 roots, 50 extra nodes, 0 pruned nodes, max_depth=5\n",
      "[15]\tTraining-rmse:28.4439\tValidation-rmse:32.0519\n",
      "[09:26:53] C:\\Users\\Administrator\\Desktop\\xgboost\\src\\tree\\updater_prune.cc:74: tree pruning end, 1 roots, 54 extra nodes, 0 pruned nodes, max_depth=5\n",
      "[16]\tTraining-rmse:27.098\tValidation-rmse:31.0896\n",
      "[09:26:53] C:\\Users\\Administrator\\Desktop\\xgboost\\src\\tree\\updater_prune.cc:74: tree pruning end, 1 roots, 54 extra nodes, 0 pruned nodes, max_depth=5\n",
      "[17]\tTraining-rmse:25.8504\tValidation-rmse:30.2364\n",
      "[09:26:53] C:\\Users\\Administrator\\Desktop\\xgboost\\src\\tree\\updater_prune.cc:74: tree pruning end, 1 roots, 48 extra nodes, 0 pruned nodes, max_depth=5\n",
      "[18]\tTraining-rmse:24.8445\tValidation-rmse:29.4627\n",
      "[09:26:53] C:\\Users\\Administrator\\Desktop\\xgboost\\src\\tree\\updater_prune.cc:74: tree pruning end, 1 roots, 54 extra nodes, 0 pruned nodes, max_depth=5\n",
      "[19]\tTraining-rmse:23.907\tValidation-rmse:28.8311\n",
      "[09:26:53] C:\\Users\\Administrator\\Desktop\\xgboost\\src\\tree\\updater_prune.cc:74: tree pruning end, 1 roots, 60 extra nodes, 0 pruned nodes, max_depth=5\n",
      "[20]\tTraining-rmse:23.0912\tValidation-rmse:28.3102\n",
      "[09:26:53] C:\\Users\\Administrator\\Desktop\\xgboost\\src\\tree\\updater_prune.cc:74: tree pruning end, 1 roots, 56 extra nodes, 0 pruned nodes, max_depth=5\n",
      "[21]\tTraining-rmse:22.4271\tValidation-rmse:27.812\n",
      "[09:26:53] C:\\Users\\Administrator\\Desktop\\xgboost\\src\\tree\\updater_prune.cc:74: tree pruning end, 1 roots, 54 extra nodes, 0 pruned nodes, max_depth=5\n",
      "[22]\tTraining-rmse:21.794\tValidation-rmse:27.4597\n",
      "[09:26:53] C:\\Users\\Administrator\\Desktop\\xgboost\\src\\tree\\updater_prune.cc:74: tree pruning end, 1 roots, 58 extra nodes, 0 pruned nodes, max_depth=5\n",
      "[23]\tTraining-rmse:21.2376\tValidation-rmse:27.0964\n",
      "[09:26:53] C:\\Users\\Administrator\\Desktop\\xgboost\\src\\tree\\updater_prune.cc:74: tree pruning end, 1 roots, 48 extra nodes, 0 pruned nodes, max_depth=5\n",
      "[24]\tTraining-rmse:20.7765\tValidation-rmse:26.8621\n",
      "[09:26:53] C:\\Users\\Administrator\\Desktop\\xgboost\\src\\tree\\updater_prune.cc:74: tree pruning end, 1 roots, 56 extra nodes, 0 pruned nodes, max_depth=5\n",
      "[25]\tTraining-rmse:20.3617\tValidation-rmse:26.6085\n",
      "[09:26:53] C:\\Users\\Administrator\\Desktop\\xgboost\\src\\tree\\updater_prune.cc:74: tree pruning end, 1 roots, 54 extra nodes, 0 pruned nodes, max_depth=5\n",
      "[26]\tTraining-rmse:19.91\tValidation-rmse:26.3284\n",
      "[09:26:53] C:\\Users\\Administrator\\Desktop\\xgboost\\src\\tree\\updater_prune.cc:74: tree pruning end, 1 roots, 60 extra nodes, 0 pruned nodes, max_depth=5\n",
      "[27]\tTraining-rmse:19.5215\tValidation-rmse:26.2273\n",
      "[09:26:53] C:\\Users\\Administrator\\Desktop\\xgboost\\src\\tree\\updater_prune.cc:74: tree pruning end, 1 roots, 42 extra nodes, 0 pruned nodes, max_depth=5\n",
      "[28]\tTraining-rmse:19.2691\tValidation-rmse:26.1222\n",
      "[09:26:53] C:\\Users\\Administrator\\Desktop\\xgboost\\src\\tree\\updater_prune.cc:74: tree pruning end, 1 roots, 48 extra nodes, 0 pruned nodes, max_depth=5\n",
      "[29]\tTraining-rmse:19.0228\tValidation-rmse:25.9724\n",
      "[09:26:53] C:\\Users\\Administrator\\Desktop\\xgboost\\src\\tree\\updater_prune.cc:74: tree pruning end, 1 roots, 46 extra nodes, 0 pruned nodes, max_depth=5\n",
      "[30]\tTraining-rmse:18.7571\tValidation-rmse:25.8226\n",
      "[09:26:53] C:\\Users\\Administrator\\Desktop\\xgboost\\src\\tree\\updater_prune.cc:74: tree pruning end, 1 roots, 56 extra nodes, 0 pruned nodes, max_depth=5\n",
      "[31]\tTraining-rmse:18.4848\tValidation-rmse:25.7194\n",
      "[09:26:53] C:\\Users\\Administrator\\Desktop\\xgboost\\src\\tree\\updater_prune.cc:74: tree pruning end, 1 roots, 46 extra nodes, 0 pruned nodes, max_depth=5\n",
      "[32]\tTraining-rmse:18.301\tValidation-rmse:25.687\n",
      "[09:26:53] C:\\Users\\Administrator\\Desktop\\xgboost\\src\\tree\\updater_prune.cc:74: tree pruning end, 1 roots, 56 extra nodes, 0 pruned nodes, max_depth=5\n",
      "[33]\tTraining-rmse:18.0535\tValidation-rmse:25.621\n",
      "[09:26:53] C:\\Users\\Administrator\\Desktop\\xgboost\\src\\tree\\updater_prune.cc:74: tree pruning end, 1 roots, 46 extra nodes, 0 pruned nodes, max_depth=5\n",
      "[34]\tTraining-rmse:17.9287\tValidation-rmse:25.6277\n",
      "[09:26:53] C:\\Users\\Administrator\\Desktop\\xgboost\\src\\tree\\updater_prune.cc:74: tree pruning end, 1 roots, 48 extra nodes, 0 pruned nodes, max_depth=5\n",
      "[35]\tTraining-rmse:17.7386\tValidation-rmse:25.6397\n",
      "[09:26:53] C:\\Users\\Administrator\\Desktop\\xgboost\\src\\tree\\updater_prune.cc:74: tree pruning end, 1 roots, 46 extra nodes, 0 pruned nodes, max_depth=5\n",
      "[36]\tTraining-rmse:17.6281\tValidation-rmse:25.6559\n",
      "[09:26:53] C:\\Users\\Administrator\\Desktop\\xgboost\\src\\tree\\updater_prune.cc:74: tree pruning end, 1 roots, 30 extra nodes, 0 pruned nodes, max_depth=5\n",
      "[37]\tTraining-rmse:17.5339\tValidation-rmse:25.6444\n",
      "[09:26:53] C:\\Users\\Administrator\\Desktop\\xgboost\\src\\tree\\updater_prune.cc:74: tree pruning end, 1 roots, 54 extra nodes, 0 pruned nodes, max_depth=5\n",
      "[38]\tTraining-rmse:17.3474\tValidation-rmse:25.6326\n",
      "[09:26:53] C:\\Users\\Administrator\\Desktop\\xgboost\\src\\tree\\updater_prune.cc:74: tree pruning end, 1 roots, 48 extra nodes, 0 pruned nodes, max_depth=5\n",
      "[39]\tTraining-rmse:17.2408\tValidation-rmse:25.6085\n"
     ]
    },
    {
     "name": "stdout",
     "output_type": "stream",
     "text": [
      "[09:26:53] C:\\Users\\Administrator\\Desktop\\xgboost\\src\\tree\\updater_prune.cc:74: tree pruning end, 1 roots, 46 extra nodes, 0 pruned nodes, max_depth=5\n",
      "[40]\tTraining-rmse:17.131\tValidation-rmse:25.5762\n",
      "[09:26:53] C:\\Users\\Administrator\\Desktop\\xgboost\\src\\tree\\updater_prune.cc:74: tree pruning end, 1 roots, 48 extra nodes, 0 pruned nodes, max_depth=5\n",
      "[41]\tTraining-rmse:17.0517\tValidation-rmse:25.5489\n",
      "[09:26:53] C:\\Users\\Administrator\\Desktop\\xgboost\\src\\tree\\updater_prune.cc:74: tree pruning end, 1 roots, 42 extra nodes, 0 pruned nodes, max_depth=5\n",
      "[42]\tTraining-rmse:16.9263\tValidation-rmse:25.4992\n",
      "[09:26:53] C:\\Users\\Administrator\\Desktop\\xgboost\\src\\tree\\updater_prune.cc:74: tree pruning end, 1 roots, 40 extra nodes, 0 pruned nodes, max_depth=5\n",
      "[43]\tTraining-rmse:16.8274\tValidation-rmse:25.464\n",
      "[09:26:53] C:\\Users\\Administrator\\Desktop\\xgboost\\src\\tree\\updater_prune.cc:74: tree pruning end, 1 roots, 54 extra nodes, 0 pruned nodes, max_depth=5\n",
      "[44]\tTraining-rmse:16.7331\tValidation-rmse:25.4419\n",
      "[09:26:53] C:\\Users\\Administrator\\Desktop\\xgboost\\src\\tree\\updater_prune.cc:74: tree pruning end, 1 roots, 44 extra nodes, 0 pruned nodes, max_depth=5\n",
      "[45]\tTraining-rmse:16.5985\tValidation-rmse:25.4378\n",
      "[09:26:53] C:\\Users\\Administrator\\Desktop\\xgboost\\src\\tree\\updater_prune.cc:74: tree pruning end, 1 roots, 56 extra nodes, 0 pruned nodes, max_depth=5\n",
      "[46]\tTraining-rmse:16.5312\tValidation-rmse:25.4568\n",
      "[09:26:53] C:\\Users\\Administrator\\Desktop\\xgboost\\src\\tree\\updater_prune.cc:74: tree pruning end, 1 roots, 46 extra nodes, 0 pruned nodes, max_depth=5\n",
      "[47]\tTraining-rmse:16.405\tValidation-rmse:25.4837\n",
      "[09:26:53] C:\\Users\\Administrator\\Desktop\\xgboost\\src\\tree\\updater_prune.cc:74: tree pruning end, 1 roots, 58 extra nodes, 0 pruned nodes, max_depth=5\n",
      "[48]\tTraining-rmse:16.3243\tValidation-rmse:25.4768\n",
      "[09:26:53] C:\\Users\\Administrator\\Desktop\\xgboost\\src\\tree\\updater_prune.cc:74: tree pruning end, 1 roots, 40 extra nodes, 0 pruned nodes, max_depth=5\n",
      "[49]\tTraining-rmse:16.268\tValidation-rmse:25.4859\n",
      "[09:26:53] C:\\Users\\Administrator\\Desktop\\xgboost\\src\\tree\\updater_prune.cc:74: tree pruning end, 1 roots, 52 extra nodes, 0 pruned nodes, max_depth=5\n",
      "[50]\tTraining-rmse:16.1761\tValidation-rmse:25.4886\n",
      "[09:26:53] C:\\Users\\Administrator\\Desktop\\xgboost\\src\\tree\\updater_prune.cc:74: tree pruning end, 1 roots, 28 extra nodes, 0 pruned nodes, max_depth=5\n",
      "[51]\tTraining-rmse:16.1104\tValidation-rmse:25.4689\n",
      "[09:26:53] C:\\Users\\Administrator\\Desktop\\xgboost\\src\\tree\\updater_prune.cc:74: tree pruning end, 1 roots, 44 extra nodes, 0 pruned nodes, max_depth=5\n",
      "[52]\tTraining-rmse:16.0555\tValidation-rmse:25.4423\n",
      "[09:26:53] C:\\Users\\Administrator\\Desktop\\xgboost\\src\\tree\\updater_prune.cc:74: tree pruning end, 1 roots, 48 extra nodes, 0 pruned nodes, max_depth=5\n",
      "[53]\tTraining-rmse:15.9986\tValidation-rmse:25.4489\n",
      "[09:26:53] C:\\Users\\Administrator\\Desktop\\xgboost\\src\\tree\\updater_prune.cc:74: tree pruning end, 1 roots, 30 extra nodes, 0 pruned nodes, max_depth=5\n",
      "[54]\tTraining-rmse:15.9447\tValidation-rmse:25.4499\n",
      "[09:26:53] C:\\Users\\Administrator\\Desktop\\xgboost\\src\\tree\\updater_prune.cc:74: tree pruning end, 1 roots, 42 extra nodes, 0 pruned nodes, max_depth=5\n",
      "[55]\tTraining-rmse:15.894\tValidation-rmse:25.5262\n",
      "[09:26:53] C:\\Users\\Administrator\\Desktop\\xgboost\\src\\tree\\updater_prune.cc:74: tree pruning end, 1 roots, 48 extra nodes, 0 pruned nodes, max_depth=5\n",
      "[56]\tTraining-rmse:15.8134\tValidation-rmse:25.4854\n",
      "[09:26:53] C:\\Users\\Administrator\\Desktop\\xgboost\\src\\tree\\updater_prune.cc:74: tree pruning end, 1 roots, 28 extra nodes, 0 pruned nodes, max_depth=5\n",
      "[57]\tTraining-rmse:15.7606\tValidation-rmse:25.5096\n",
      "[09:26:53] C:\\Users\\Administrator\\Desktop\\xgboost\\src\\tree\\updater_prune.cc:74: tree pruning end, 1 roots, 46 extra nodes, 0 pruned nodes, max_depth=5\n",
      "[58]\tTraining-rmse:15.67\tValidation-rmse:25.5528\n",
      "[09:26:53] C:\\Users\\Administrator\\Desktop\\xgboost\\src\\tree\\updater_prune.cc:74: tree pruning end, 1 roots, 50 extra nodes, 0 pruned nodes, max_depth=5\n",
      "[59]\tTraining-rmse:15.5551\tValidation-rmse:25.561\n",
      "[09:26:53] C:\\Users\\Administrator\\Desktop\\xgboost\\src\\tree\\updater_prune.cc:74: tree pruning end, 1 roots, 52 extra nodes, 0 pruned nodes, max_depth=5\n",
      "[60]\tTraining-rmse:15.488\tValidation-rmse:25.6059\n",
      "[09:26:53] C:\\Users\\Administrator\\Desktop\\xgboost\\src\\tree\\updater_prune.cc:74: tree pruning end, 1 roots, 42 extra nodes, 0 pruned nodes, max_depth=5\n",
      "[61]\tTraining-rmse:15.4329\tValidation-rmse:25.6574\n",
      "[09:26:53] C:\\Users\\Administrator\\Desktop\\xgboost\\src\\tree\\updater_prune.cc:74: tree pruning end, 1 roots, 46 extra nodes, 0 pruned nodes, max_depth=5\n",
      "[62]\tTraining-rmse:15.3871\tValidation-rmse:25.6568\n",
      "[09:26:53] C:\\Users\\Administrator\\Desktop\\xgboost\\src\\tree\\updater_prune.cc:74: tree pruning end, 1 roots, 52 extra nodes, 0 pruned nodes, max_depth=5\n",
      "[63]\tTraining-rmse:15.3145\tValidation-rmse:25.6829\n",
      "[09:26:53] C:\\Users\\Administrator\\Desktop\\xgboost\\src\\tree\\updater_prune.cc:74: tree pruning end, 1 roots, 50 extra nodes, 0 pruned nodes, max_depth=5\n",
      "[64]\tTraining-rmse:15.2208\tValidation-rmse:25.7027\n",
      "[09:26:54] C:\\Users\\Administrator\\Desktop\\xgboost\\src\\tree\\updater_prune.cc:74: tree pruning end, 1 roots, 28 extra nodes, 0 pruned nodes, max_depth=5\n",
      "[65]\tTraining-rmse:15.169\tValidation-rmse:25.6852\n",
      "[09:26:54] C:\\Users\\Administrator\\Desktop\\xgboost\\src\\tree\\updater_prune.cc:74: tree pruning end, 1 roots, 44 extra nodes, 0 pruned nodes, max_depth=5\n",
      "[66]\tTraining-rmse:15.1343\tValidation-rmse:25.693\n",
      "[09:26:54] C:\\Users\\Administrator\\Desktop\\xgboost\\src\\tree\\updater_prune.cc:74: tree pruning end, 1 roots, 30 extra nodes, 0 pruned nodes, max_depth=5\n",
      "[67]\tTraining-rmse:15.1064\tValidation-rmse:25.6872\n",
      "[09:26:54] C:\\Users\\Administrator\\Desktop\\xgboost\\src\\tree\\updater_prune.cc:74: tree pruning end, 1 roots, 56 extra nodes, 0 pruned nodes, max_depth=5\n",
      "[68]\tTraining-rmse:14.9559\tValidation-rmse:25.6657\n",
      "[09:26:54] C:\\Users\\Administrator\\Desktop\\xgboost\\src\\tree\\updater_prune.cc:74: tree pruning end, 1 roots, 54 extra nodes, 0 pruned nodes, max_depth=5\n",
      "[69]\tTraining-rmse:14.8909\tValidation-rmse:25.6718\n",
      "[09:26:54] C:\\Users\\Administrator\\Desktop\\xgboost\\src\\tree\\updater_prune.cc:74: tree pruning end, 1 roots, 44 extra nodes, 0 pruned nodes, max_depth=5\n",
      "[70]\tTraining-rmse:14.8006\tValidation-rmse:25.6531\n",
      "[09:26:54] C:\\Users\\Administrator\\Desktop\\xgboost\\src\\tree\\updater_prune.cc:74: tree pruning end, 1 roots, 52 extra nodes, 0 pruned nodes, max_depth=5\n",
      "[71]\tTraining-rmse:14.7215\tValidation-rmse:25.692\n",
      "[09:26:54] C:\\Users\\Administrator\\Desktop\\xgboost\\src\\tree\\updater_prune.cc:74: tree pruning end, 1 roots, 54 extra nodes, 0 pruned nodes, max_depth=5\n",
      "[72]\tTraining-rmse:14.6737\tValidation-rmse:25.6977\n",
      "[09:26:54] C:\\Users\\Administrator\\Desktop\\xgboost\\src\\tree\\updater_prune.cc:74: tree pruning end, 1 roots, 62 extra nodes, 0 pruned nodes, max_depth=5\n",
      "[73]\tTraining-rmse:14.5162\tValidation-rmse:25.6212\n",
      "[09:26:54] C:\\Users\\Administrator\\Desktop\\xgboost\\src\\tree\\updater_prune.cc:74: tree pruning end, 1 roots, 44 extra nodes, 0 pruned nodes, max_depth=5\n",
      "[74]\tTraining-rmse:14.4167\tValidation-rmse:25.6094\n",
      "[09:26:54] C:\\Users\\Administrator\\Desktop\\xgboost\\src\\tree\\updater_prune.cc:74: tree pruning end, 1 roots, 46 extra nodes, 0 pruned nodes, max_depth=5\n",
      "[75]\tTraining-rmse:14.372\tValidation-rmse:25.6331\n",
      "[09:26:54] C:\\Users\\Administrator\\Desktop\\xgboost\\src\\tree\\updater_prune.cc:74: tree pruning end, 1 roots, 54 extra nodes, 0 pruned nodes, max_depth=5\n",
      "[76]\tTraining-rmse:14.2202\tValidation-rmse:25.6427\n",
      "[09:26:54] C:\\Users\\Administrator\\Desktop\\xgboost\\src\\tree\\updater_prune.cc:74: tree pruning end, 1 roots, 50 extra nodes, 0 pruned nodes, max_depth=5\n",
      "[77]\tTraining-rmse:14.1641\tValidation-rmse:25.6358\n",
      "[09:26:54] C:\\Users\\Administrator\\Desktop\\xgboost\\src\\tree\\updater_prune.cc:74: tree pruning end, 1 roots, 42 extra nodes, 0 pruned nodes, max_depth=5\n",
      "[78]\tTraining-rmse:14.1376\tValidation-rmse:25.6327\n",
      "[09:26:54] C:\\Users\\Administrator\\Desktop\\xgboost\\src\\tree\\updater_prune.cc:74: tree pruning end, 1 roots, 44 extra nodes, 0 pruned nodes, max_depth=5\n",
      "[79]\tTraining-rmse:14.1039\tValidation-rmse:25.6464\n",
      "[09:26:54] C:\\Users\\Administrator\\Desktop\\xgboost\\src\\tree\\updater_prune.cc:74: tree pruning end, 1 roots, 58 extra nodes, 0 pruned nodes, max_depth=5\n",
      "[80]\tTraining-rmse:14.0033\tValidation-rmse:25.6855\n"
     ]
    },
    {
     "name": "stdout",
     "output_type": "stream",
     "text": [
      "[09:26:54] C:\\Users\\Administrator\\Desktop\\xgboost\\src\\tree\\updater_prune.cc:74: tree pruning end, 1 roots, 60 extra nodes, 0 pruned nodes, max_depth=5\n",
      "[81]\tTraining-rmse:13.9044\tValidation-rmse:25.6757\n",
      "[09:26:54] C:\\Users\\Administrator\\Desktop\\xgboost\\src\\tree\\updater_prune.cc:74: tree pruning end, 1 roots, 32 extra nodes, 0 pruned nodes, max_depth=5\n",
      "[82]\tTraining-rmse:13.8788\tValidation-rmse:25.6723\n",
      "[09:26:54] C:\\Users\\Administrator\\Desktop\\xgboost\\src\\tree\\updater_prune.cc:74: tree pruning end, 1 roots, 62 extra nodes, 0 pruned nodes, max_depth=5\n",
      "[83]\tTraining-rmse:13.7635\tValidation-rmse:25.6081\n",
      "[09:26:54] C:\\Users\\Administrator\\Desktop\\xgboost\\src\\tree\\updater_prune.cc:74: tree pruning end, 1 roots, 34 extra nodes, 0 pruned nodes, max_depth=5\n",
      "[84]\tTraining-rmse:13.7328\tValidation-rmse:25.6297\n",
      "[09:26:54] C:\\Users\\Administrator\\Desktop\\xgboost\\src\\tree\\updater_prune.cc:74: tree pruning end, 1 roots, 46 extra nodes, 0 pruned nodes, max_depth=5\n",
      "[85]\tTraining-rmse:13.6452\tValidation-rmse:25.6574\n",
      "Stopping. Best iteration:\n",
      "[45]\tTraining-rmse:16.5985\tValidation-rmse:25.4378\n",
      "\n"
     ]
    }
   ],
   "source": [
    "clf = xgb.train(params, Train, num_boost_round=5000, evals=eval_list, obj=None, feval=None, maximize=False, \n",
    "          early_stopping_rounds=40, evals_result=history)"
   ]
  },
  {
   "cell_type": "code",
   "execution_count": 278,
   "metadata": {},
   "outputs": [
    {
     "data": {
      "image/png": "[encoded data removed]",
      "text/plain": [
       "<Figure size 1440x720 with 1 Axes>"
      ]
     },
     "metadata": {
      "needs_background": "light"
     },
     "output_type": "display_data"
    }
   ],
   "source": [
    "# dataframe of progress\n",
    "f,ax=plt.subplots(1,1)\n",
    "f.set_figheight(10)\n",
    "f.set_figwidth(20)\n",
    "df_performance=pd.DataFrame({\"train\":history[\"Training\"][\"rmse\"],\"test\":history[\"Validation\"][\"rmse\"]}).reset_index(drop=False)\n",
    "sns.pointplot(ax=ax,y=\"train\",x=\"index\",data=df_performance,color=\"r\")\n",
    "sns.pointplot(ax=ax,y=\"test\",x=\"index\",data=df_performance,color=\"g\")\n",
    "ax.legend(handles=ax.lines[::len(df_performance)+1], labels=[\"Train\",\"Test\"])\n",
    "plt.xlabel('iterations'); plt.ylabel('logloss value'); plt.title('learning curve')\n",
    "plt.savefig('E:\\kaggle\\jia\\图片保存')"
   ]
  },
  {
   "cell_type": "code",
   "execution_count": 279,
   "metadata": {},
   "outputs": [
    {
     "data": {
      "image/png": "[encoded data removed]",
      "text/plain": [
       "<Figure size 1440x1440 with 1 Axes>"
      ]
     },
     "metadata": {
      "needs_background": "light"
     },
     "output_type": "display_data"
    }
   ],
   "source": [
    "score=clf.get_score(importance_type=\"gain\")\n",
    "df=pd.DataFrame({\"feature\":list(score.keys()),\"score\":list(score.values())})\n",
    "df=df.sort_values(by=\"score\",ascending=False)\n",
    "plt.figure(figsize=(20,20))\n",
    "plt.xticks(rotation=\"vertical\")\n",
    "sns.barplot(x=\"feature\",y=\"score\",data=df,orient=\"v\")\n",
    "plt.savefig('E:\\\\kaggle\\\\jia\\\\图片保存\\\\xgb.png')"
   ]
  },
  {
   "cell_type": "code",
   "execution_count": 280,
   "metadata": {},
   "outputs": [],
   "source": [
    "# Checking rmse on test set (kept during data splitting)\n",
    "#from sklearn.metrics import mean_squared_error as mse\n",
    "#pred_test = clf.predict(Test)\n",
    "#print(np.sqrt(score))"
   ]
  },
  {
   "cell_type": "code",
   "execution_count": 281,
   "metadata": {},
   "outputs": [],
   "source": [
    "#模型数据保存"
   ]
  },
  {
   "cell_type": "code",
   "execution_count": null,
   "metadata": {},
   "outputs": [],
   "source": []
  },
  {
   "cell_type": "code",
   "execution_count": null,
   "metadata": {},
   "outputs": [],
   "source": []
  },
  {
   "cell_type": "code",
   "execution_count": null,
   "metadata": {},
   "outputs": [],
   "source": []
  }
 ],
 "metadata": {
  "kernelspec": {
   "display_name": "Python 3",
   "language": "python",
   "name": "python3"
  },
  "language_info": {
   "codemirror_mode": {
    "name": "ipython",
    "version": 3
   },
   "file_extension": ".py",
   "mimetype": "text/x-python",
   "name": "python",
   "nbconvert_exporter": "python",
   "pygments_lexer": "ipython3",
   "version": "3.6.5"
  }
 },
 "nbformat": 4,
 "nbformat_minor": 2
}
