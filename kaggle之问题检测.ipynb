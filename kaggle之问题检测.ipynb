{
  "cells": [
    {
      "metadata": {
        "trusted": true,
        "_uuid": "8666039ab02c7d0d681782786ca22749b3019f08"
      },
      "cell_type": "code",
      "source": "import numpy as np # linear algebra\nimport pandas as pd # data processing, CSV file I/O (e.g. pd.read_csv)\nfrom tqdm import tqdm\nimport math\nfrom sklearn.model_selection import train_test_split\nfrom sklearn import metrics\n\nfrom keras.preprocessing.text import Tokenizer\nfrom keras.preprocessing.sequence import pad_sequences\n\nfrom sklearn.model_selection import GridSearchCV, KFold, StratifiedKFold\nfrom keras.wrappers.scikit_learn import KerasClassifier\nfrom sklearn.model_selection import cross_val_score\nfrom keras.models import Sequential, Model # initialize neural network library\nfrom keras.layers import Dense, Input, LSTM, Embedding, Dropout, Activation, CuDNNGRU, Conv1D, Bidirectional, GlobalMaxPool1D, GlobalAveragePooling1D, concatenate",
      "execution_count": null,
      "outputs": []
    },
    {
      "metadata": {
        "trusted": true,
        "_uuid": "ce2a368606cff364ccc692b801f27f1de9e56eff"
      },
      "cell_type": "code",
      "source": "\n\n# Any results you write to the current directory are saved as output.\n\n\nfrom keras import initializers, regularizers, constraints, optimizers, layers\nfrom sklearn.feature_extraction.text import CountVectorizer\n\nfrom keras.preprocessing import text, sequence\nfrom sklearn.metrics import f1_score\nimport os\nprint(os.listdir(\"../input\"))",
      "execution_count": null,
      "outputs": []
    },
    {
      "metadata": {
        "trusted": true,
        "_uuid": "3a59e5b0c7637c54732a130ac3f41b5659563055"
      },
      "cell_type": "code",
      "source": "\n\ntrain_df = pd.read_csv(\"../input/train.csv\")\ntest_df = pd.read_csv(\"../input/test.csv\")\nprint(\"Train datasets shape:\", train_df.shape)\nprint(\"Test datasets shape:\", test_df.shape)",
      "execution_count": null,
      "outputs": []
    },
    {
      "metadata": {
        "trusted": true,
        "_uuid": "af7edb92f1f708b2a8a978f323375509d52d4055"
      },
      "cell_type": "code",
      "source": "## split to train and val\ntrain_df, val_df = train_test_split(train_df, test_size=0.1, random_state=2018)\n\n## some config values \nembed_size = 300 # how big is each word vector\nmax_features = 50000 # how many unique words to use (i.e num rows in embedding vector)\nmaxlen = 100 # max number of words in a question to use\n\n## fill up the missing values\ntrain_X = train_df[\"question_text\"].fillna(\"_na_\").values\nval_X = val_df[\"question_text\"].fillna(\"_na_\").values\ntest_X = test_df[\"question_text\"].fillna(\"_na_\").values\n\n## Tokenize the sentences\ntokenizer = Tokenizer(num_words=max_features)\ntokenizer.fit_on_texts(list(train_X))\ntrain_X = tokenizer.texts_to_sequences(train_X)\nval_X = tokenizer.texts_to_sequences(val_X)\ntest_X = tokenizer.texts_to_sequences(test_X)\n\n## Pad the sentences \ntrain_X = pad_sequences(train_X, maxlen=maxlen,value=0.)\nval_X = pad_sequences(val_X, maxlen=maxlen,value=0.)\ntest_X = pad_sequences(test_X, maxlen=maxlen,value=0.)\n\n## Get the target values\ntrain_y = train_df['target'].values\nval_y = val_df['target'].values\n",
      "execution_count": null,
      "outputs": []
    },
    {
      "metadata": {
        "trusted": true,
        "_uuid": "47b50988531ca399a8a3d09165cee5695c8955b4"
      },
      "cell_type": "code",
      "source": "print(train_y.shape)\nprint(train_X.shape)\nprint(test_X)",
      "execution_count": null,
      "outputs": []
    },
    {
      "metadata": {
        "trusted": true,
        "_uuid": "6ca8c469213878c81ca0693151359fe58dd36f27"
      },
      "cell_type": "code",
      "source": "1306122*0.9",
      "execution_count": null,
      "outputs": []
    },
    {
      "metadata": {
        "trusted": true,
        "_uuid": "746a88cc6db057602734766e25e400ba4eddb9b8"
      },
      "cell_type": "code",
      "source": "print(val_X)",
      "execution_count": null,
      "outputs": []
    },
    {
      "metadata": {
        "trusted": true,
        "_uuid": "cb145d878889ba4337dd76a640c267dd3c8aa6e5"
      },
      "cell_type": "code",
      "source": "def get_model2():    \n    inp = Input(shape=(maxlen,))\n    x = Embedding(max_features, embed_size)(inp)\n    x = Bidirectional(CuDNNGRU(64, return_sequences=True))(x)\n    x = GlobalMaxPool1D()(x)\n    x = Dense(16, activation=\"relu\")(x)\n    x = Dropout(0.1)(x)\n    x = Dense(1, activation=\"sigmoid\")(x)\n    model = Model(inputs=inp, outputs=x)\n    model.compile(loss='binary_crossentropy', optimizer='adam', metrics=['accuracy'])\n\n    print(model.summary())\n    return model\nmodel = get_model2()",
      "execution_count": null,
      "outputs": []
    },
    {
      "metadata": {
        "trusted": true,
        "_uuid": "68fa4d64d4ec6c7bd99bc69a68aaca5dda374770"
      },
      "cell_type": "code",
      "source": "#Create model, train and predict\n#model = Sequential()\nmodel.fit(train_X,train_y)\npred_noemb_val_y = model.predict(val_X)\npred_noemb_test_y = model.predict(test_X)\n#model.compile(loss='binary_crossentropy',optimizer='adam',metrics=['accuracy'])\n\n\npred_noemb_test_y.shape\ntrain_meta = np.zeros(train_y.shape)\ntest_meta = np.zeros(test_X.shape[0])\ny_pred_val = (pred_noemb_val_y > 0.5).astype(int)\ny_pred_test = (pred_noemb_test_y > 0.5).astype(int)\n# Print predict using f1score from sklearn\n#score = f1_score(val_y,y_val)\n#print(score)",
      "execution_count": null,
      "outputs": []
    },
    {
      "metadata": {
        "trusted": true,
        "_uuid": "fa35decee6bdf35a586d868f807322573ca2ff3f"
      },
      "cell_type": "code",
      "source": "score = f1_score(val_y,y_pred_val)\nprint(score)",
      "execution_count": null,
      "outputs": []
    },
    {
      "metadata": {
        "trusted": true,
        "_uuid": "65cb88ba9ec31b725895a1d4fef152d29bc55459"
      },
      "cell_type": "code",
      "source": "# Collect garbage\nimport time\nimport gc; gc.collect()\ntime.sleep(10)",
      "execution_count": null,
      "outputs": []
    },
    {
      "metadata": {
        "_kg_hide-output": false,
        "_kg_hide-input": true,
        "trusted": true,
        "_uuid": "c24efcc0abaf31b4ba630870c28f6538abfc1bb4"
      },
      "cell_type": "code",
      "source": "# Create a submission\nsub_df = pd.DataFrame({'qid':test_df.qid.values})\nsub_df['prediction'] = y_pred_test\nsub_df.to_csv('submission.csv', index=False)",
      "execution_count": null,
      "outputs": []
    },
    {
      "metadata": {
        "trusted": true,
        "_uuid": "3afb00a0b2126357e3704f53182ccb5051710d5a"
      },
      "cell_type": "code",
      "source": "",
      "execution_count": null,
      "outputs": []
    },
    {
      "metadata": {
        "trusted": true,
        "_uuid": "341f69b44699c09b022e42e49fade694b520130d"
      },
      "cell_type": "code",
      "source": "",
      "execution_count": null,
      "outputs": []
    }
  ],
  "metadata": {
    "kernelspec": {
      "display_name": "Python 3",
      "language": "python",
      "name": "python3"
    },
    "language_info": {
      "name": "python",
      "version": "3.6.6",
      "mimetype": "text/x-python",
      "codemirror_mode": {
        "name": "ipython",
        "version": 3
      },
      "pygments_lexer": "ipython3",
      "nbconvert_exporter": "python",
      "file_extension": ".py"
    }
  },
  "nbformat": 4,
  "nbformat_minor": 1
}